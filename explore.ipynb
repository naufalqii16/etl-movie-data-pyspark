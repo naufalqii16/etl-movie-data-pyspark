{
 "cells": [
  {
   "cell_type": "markdown",
   "id": "dc4c9581",
   "metadata": {},
   "source": [
    "## Install Libraries and Setup Driver Manager"
   ]
  },
  {
   "cell_type": "code",
   "execution_count": null,
   "id": "ce94e329",
   "metadata": {},
   "outputs": [],
   "source": [
    "import pyspark\n",
    "from pyspark.sql import SparkSession\n",
    "from pyspark.sql.functions import expr\n",
    "from pyspark.sql.functions import col"
   ]
  },
  {
   "cell_type": "code",
   "execution_count": 2,
   "id": "2cba891d",
   "metadata": {},
   "outputs": [
    {
     "data": {
      "text/plain": [
       "'4.0.0'"
      ]
     },
     "execution_count": 2,
     "metadata": {},
     "output_type": "execute_result"
    }
   ],
   "source": [
    "pyspark.__version__"
   ]
  },
  {
   "cell_type": "code",
   "execution_count": 3,
   "id": "978fe23b",
   "metadata": {},
   "outputs": [
    {
     "ename": "Py4JJavaError",
     "evalue": "An error occurred while calling None.org.apache.spark.api.java.JavaSparkContext.\n: java.lang.RuntimeException: java.io.FileNotFoundException: java.io.FileNotFoundException: HADOOP_HOME and hadoop.home.dir are unset. -see https://cwiki.apache.org/confluence/display/HADOOP2/WindowsProblems\r\n\tat org.apache.hadoop.util.Shell.getWinUtilsPath(Shell.java:789)\r\n\tat org.apache.hadoop.util.Shell.getSetPermissionCommand(Shell.java:298)\r\n\tat org.apache.hadoop.fs.FileUtil.chmod(FileUtil.java:1305)\r\n\tat org.apache.hadoop.fs.FileUtil.chmod(FileUtil.java:1291)\r\n\tat org.apache.spark.util.Utils$.fetchFile(Utils.scala:417)\r\n\tat org.apache.spark.executor.Executor.$anonfun$updateDependencies$14(Executor.scala:1233)\r\n\tat org.apache.spark.executor.Executor.$anonfun$updateDependencies$14$adapted(Executor.scala:1224)\r\n\tat scala.collection.IterableOnceOps.foreach(IterableOnce.scala:619)\r\n\tat scala.collection.IterableOnceOps.foreach$(IterableOnce.scala:617)\r\n\tat scala.collection.AbstractIterable.foreach(Iterable.scala:935)\r\n\tat scala.collection.IterableOps$WithFilter.foreach(Iterable.scala:905)\r\n\tat org.apache.spark.executor.Executor.updateDependencies(Executor.scala:1224)\r\n\tat org.apache.spark.executor.Executor.<init>(Executor.scala:343)\r\n\tat org.apache.spark.scheduler.local.LocalEndpoint.<init>(LocalSchedulerBackend.scala:66)\r\n\tat org.apache.spark.scheduler.local.LocalSchedulerBackend.start(LocalSchedulerBackend.scala:136)\r\n\tat org.apache.spark.scheduler.TaskSchedulerImpl.start(TaskSchedulerImpl.scala:237)\r\n\tat org.apache.spark.SparkContext.<init>(SparkContext.scala:622)\r\n\tat org.apache.spark.api.java.JavaSparkContext.<init>(JavaSparkContext.scala:59)\r\n\tat java.base/jdk.internal.reflect.NativeConstructorAccessorImpl.newInstance0(Native Method)\r\n\tat java.base/jdk.internal.reflect.NativeConstructorAccessorImpl.newInstance(NativeConstructorAccessorImpl.java:75)\r\n\tat java.base/jdk.internal.reflect.DelegatingConstructorAccessorImpl.newInstance(DelegatingConstructorAccessorImpl.java:53)\r\n\tat java.base/java.lang.reflect.Constructor.newInstanceWithCaller(Constructor.java:502)\r\n\tat java.base/java.lang.reflect.Constructor.newInstance(Constructor.java:486)\r\n\tat py4j.reflection.MethodInvoker.invoke(MethodInvoker.java:247)\r\n\tat py4j.reflection.ReflectionEngine.invoke(ReflectionEngine.java:374)\r\n\tat py4j.Gateway.invoke(Gateway.java:238)\r\n\tat py4j.commands.ConstructorCommand.invokeConstructor(ConstructorCommand.java:80)\r\n\tat py4j.commands.ConstructorCommand.execute(ConstructorCommand.java:69)\r\n\tat py4j.ClientServerConnection.waitForCommands(ClientServerConnection.java:184)\r\n\tat py4j.ClientServerConnection.run(ClientServerConnection.java:108)\r\n\tat java.base/java.lang.Thread.run(Thread.java:1583)\r\nCaused by: java.io.FileNotFoundException: java.io.FileNotFoundException: HADOOP_HOME and hadoop.home.dir are unset. -see https://cwiki.apache.org/confluence/display/HADOOP2/WindowsProblems\r\n\tat org.apache.hadoop.util.Shell.fileNotFoundException(Shell.java:601)\r\n\tat org.apache.hadoop.util.Shell.getHadoopHomeDir(Shell.java:622)\r\n\tat org.apache.hadoop.util.Shell.getQualifiedBin(Shell.java:645)\r\n\tat org.apache.hadoop.util.Shell.<clinit>(Shell.java:742)\r\n\tat org.apache.hadoop.util.StringUtils.<clinit>(StringUtils.java:80)\r\n\tat org.apache.hadoop.conf.Configuration.getTimeDurationHelper(Configuration.java:1954)\r\n\tat org.apache.hadoop.conf.Configuration.getTimeDuration(Configuration.java:1912)\r\n\tat org.apache.hadoop.conf.Configuration.getTimeDuration(Configuration.java:1885)\r\n\tat org.apache.hadoop.util.ShutdownHookManager.getShutdownTimeout(ShutdownHookManager.java:183)\r\n\tat org.apache.hadoop.util.ShutdownHookManager$HookEntry.<init>(ShutdownHookManager.java:207)\r\n\tat org.apache.hadoop.util.ShutdownHookManager.addShutdownHook(ShutdownHookManager.java:304)\r\n\tat org.apache.spark.util.SparkShutdownHookManager.$anonfun$install$1(ShutdownHookManager.scala:194)\r\n\tat scala.runtime.java8.JFunction0$mcV$sp.apply(JFunction0$mcV$sp.scala:18)\r\n\tat scala.Option.fold(Option.scala:263)\r\n\tat org.apache.spark.util.SparkShutdownHookManager.install(ShutdownHookManager.scala:195)\r\n\tat org.apache.spark.util.ShutdownHookManager$.shutdownHooks$lzycompute(ShutdownHookManager.scala:55)\r\n\tat org.apache.spark.util.ShutdownHookManager$.shutdownHooks(ShutdownHookManager.scala:53)\r\n\tat org.apache.spark.util.ShutdownHookManager$.addShutdownHook(ShutdownHookManager.scala:159)\r\n\tat org.apache.spark.util.ShutdownHookManager$.<clinit>(ShutdownHookManager.scala:63)\r\n\tat org.apache.spark.util.Utils$.createTempDir(Utils.scala:250)\r\n\tat org.apache.spark.util.SparkFileUtils.createTempDir(SparkFileUtils.scala:103)\r\n\tat org.apache.spark.util.SparkFileUtils.createTempDir$(SparkFileUtils.scala:102)\r\n\tat org.apache.spark.util.Utils$.createTempDir(Utils.scala:99)\r\n\tat org.apache.spark.deploy.SparkSubmit.prepareSubmitEnvironment(SparkSubmit.scala:379)\r\n\tat org.apache.spark.deploy.SparkSubmit.org$apache$spark$deploy$SparkSubmit$$runMain(SparkSubmit.scala:961)\r\n\tat org.apache.spark.deploy.SparkSubmit.doRunMain$1(SparkSubmit.scala:204)\r\n\tat org.apache.spark.deploy.SparkSubmit.submit(SparkSubmit.scala:227)\r\n\tat org.apache.spark.deploy.SparkSubmit.doSubmit(SparkSubmit.scala:96)\r\n\tat org.apache.spark.deploy.SparkSubmit$$anon$2.doSubmit(SparkSubmit.scala:1132)\r\n\tat org.apache.spark.deploy.SparkSubmit$.main(SparkSubmit.scala:1141)\r\n\tat org.apache.spark.deploy.SparkSubmit.main(SparkSubmit.scala)\r\nCaused by: java.io.FileNotFoundException: HADOOP_HOME and hadoop.home.dir are unset.\r\n\tat org.apache.hadoop.util.Shell.checkHadoopHomeInner(Shell.java:521)\r\n\tat org.apache.hadoop.util.Shell.checkHadoopHome(Shell.java:492)\r\n\tat org.apache.hadoop.util.Shell.<clinit>(Shell.java:569)\r\n\t... 27 more\r\n",
     "output_type": "error",
     "traceback": [
      "\u001b[1;31m---------------------------------------------------------------------------\u001b[0m",
      "\u001b[1;31mPy4JJavaError\u001b[0m                             Traceback (most recent call last)",
      "Cell \u001b[1;32mIn[3], line 4\u001b[0m\n\u001b[0;32m      1\u001b[0m spark \u001b[38;5;241m=\u001b[39m \u001b[43mSparkSession\u001b[49m\u001b[38;5;241;43m.\u001b[39;49m\u001b[43mbuilder\u001b[49m\u001b[43m \u001b[49m\u001b[43m\\\u001b[49m\n\u001b[0;32m      2\u001b[0m \u001b[43m                    \u001b[49m\u001b[38;5;241;43m.\u001b[39;49m\u001b[43mappName\u001b[49m\u001b[43m(\u001b[49m\u001b[38;5;124;43m'\u001b[39;49m\u001b[38;5;124;43mpipeline movie data\u001b[39;49m\u001b[38;5;124;43m'\u001b[39;49m\u001b[43m)\u001b[49m\u001b[43m \u001b[49m\u001b[43m\\\u001b[49m\n\u001b[0;32m      3\u001b[0m \u001b[43m                    \u001b[49m\u001b[38;5;241;43m.\u001b[39;49m\u001b[43mconfig\u001b[49m\u001b[43m(\u001b[49m\u001b[38;5;124;43m'\u001b[39;49m\u001b[38;5;124;43mspark.jars\u001b[39;49m\u001b[38;5;124;43m'\u001b[39;49m\u001b[43m,\u001b[49m\u001b[43m \u001b[49m\u001b[38;5;124;43m'\u001b[39;49m\u001b[38;5;124;43m./jars/postgresql-42.7.6.jar\u001b[39;49m\u001b[38;5;124;43m'\u001b[39;49m\u001b[43m)\u001b[49m\u001b[43m \u001b[49m\u001b[43m\\\u001b[49m\n\u001b[1;32m----> 4\u001b[0m \u001b[43m                    \u001b[49m\u001b[38;5;241;43m.\u001b[39;49m\u001b[43mgetOrCreate\u001b[49m\u001b[43m(\u001b[49m\u001b[43m)\u001b[49m\n",
      "File \u001b[1;32mc:\\Users\\Naufalqii\\Downloads\\Data Mastering\\Data engineering\\pyspark-projects\\pipeline-movie-data\\pyspark-movie-data-etl\\lib\\site-packages\\pyspark\\sql\\session.py:556\u001b[0m, in \u001b[0;36mSparkSession.Builder.getOrCreate\u001b[1;34m(self)\u001b[0m\n\u001b[0;32m    554\u001b[0m     sparkConf\u001b[38;5;241m.\u001b[39mset(key, value)\n\u001b[0;32m    555\u001b[0m \u001b[38;5;66;03m# This SparkContext may be an existing one.\u001b[39;00m\n\u001b[1;32m--> 556\u001b[0m sc \u001b[38;5;241m=\u001b[39m \u001b[43mSparkContext\u001b[49m\u001b[38;5;241;43m.\u001b[39;49m\u001b[43mgetOrCreate\u001b[49m\u001b[43m(\u001b[49m\u001b[43msparkConf\u001b[49m\u001b[43m)\u001b[49m\n\u001b[0;32m    557\u001b[0m \u001b[38;5;66;03m# Do not update `SparkConf` for existing `SparkContext`, as it's shared\u001b[39;00m\n\u001b[0;32m    558\u001b[0m \u001b[38;5;66;03m# by all sessions.\u001b[39;00m\n\u001b[0;32m    559\u001b[0m session \u001b[38;5;241m=\u001b[39m SparkSession(sc, options\u001b[38;5;241m=\u001b[39m\u001b[38;5;28mself\u001b[39m\u001b[38;5;241m.\u001b[39m_options)\n",
      "File \u001b[1;32mc:\\Users\\Naufalqii\\Downloads\\Data Mastering\\Data engineering\\pyspark-projects\\pipeline-movie-data\\pyspark-movie-data-etl\\lib\\site-packages\\pyspark\\core\\context.py:523\u001b[0m, in \u001b[0;36mSparkContext.getOrCreate\u001b[1;34m(cls, conf)\u001b[0m\n\u001b[0;32m    521\u001b[0m \u001b[38;5;28;01mwith\u001b[39;00m SparkContext\u001b[38;5;241m.\u001b[39m_lock:\n\u001b[0;32m    522\u001b[0m     \u001b[38;5;28;01mif\u001b[39;00m SparkContext\u001b[38;5;241m.\u001b[39m_active_spark_context \u001b[38;5;129;01mis\u001b[39;00m \u001b[38;5;28;01mNone\u001b[39;00m:\n\u001b[1;32m--> 523\u001b[0m         \u001b[43mSparkContext\u001b[49m\u001b[43m(\u001b[49m\u001b[43mconf\u001b[49m\u001b[38;5;241;43m=\u001b[39;49m\u001b[43mconf\u001b[49m\u001b[43m \u001b[49m\u001b[38;5;129;43;01mor\u001b[39;49;00m\u001b[43m \u001b[49m\u001b[43mSparkConf\u001b[49m\u001b[43m(\u001b[49m\u001b[43m)\u001b[49m\u001b[43m)\u001b[49m\n\u001b[0;32m    524\u001b[0m     \u001b[38;5;28;01massert\u001b[39;00m SparkContext\u001b[38;5;241m.\u001b[39m_active_spark_context \u001b[38;5;129;01mis\u001b[39;00m \u001b[38;5;129;01mnot\u001b[39;00m \u001b[38;5;28;01mNone\u001b[39;00m\n\u001b[0;32m    525\u001b[0m     \u001b[38;5;28;01mreturn\u001b[39;00m SparkContext\u001b[38;5;241m.\u001b[39m_active_spark_context\n",
      "File \u001b[1;32mc:\\Users\\Naufalqii\\Downloads\\Data Mastering\\Data engineering\\pyspark-projects\\pipeline-movie-data\\pyspark-movie-data-etl\\lib\\site-packages\\pyspark\\core\\context.py:207\u001b[0m, in \u001b[0;36mSparkContext.__init__\u001b[1;34m(self, master, appName, sparkHome, pyFiles, environment, batchSize, serializer, conf, gateway, jsc, profiler_cls, udf_profiler_cls, memory_profiler_cls)\u001b[0m\n\u001b[0;32m    205\u001b[0m SparkContext\u001b[38;5;241m.\u001b[39m_ensure_initialized(\u001b[38;5;28mself\u001b[39m, gateway\u001b[38;5;241m=\u001b[39mgateway, conf\u001b[38;5;241m=\u001b[39mconf)\n\u001b[0;32m    206\u001b[0m \u001b[38;5;28;01mtry\u001b[39;00m:\n\u001b[1;32m--> 207\u001b[0m     \u001b[38;5;28;43mself\u001b[39;49m\u001b[38;5;241;43m.\u001b[39;49m\u001b[43m_do_init\u001b[49m\u001b[43m(\u001b[49m\n\u001b[0;32m    208\u001b[0m \u001b[43m        \u001b[49m\u001b[43mmaster\u001b[49m\u001b[43m,\u001b[49m\n\u001b[0;32m    209\u001b[0m \u001b[43m        \u001b[49m\u001b[43mappName\u001b[49m\u001b[43m,\u001b[49m\n\u001b[0;32m    210\u001b[0m \u001b[43m        \u001b[49m\u001b[43msparkHome\u001b[49m\u001b[43m,\u001b[49m\n\u001b[0;32m    211\u001b[0m \u001b[43m        \u001b[49m\u001b[43mpyFiles\u001b[49m\u001b[43m,\u001b[49m\n\u001b[0;32m    212\u001b[0m \u001b[43m        \u001b[49m\u001b[43menvironment\u001b[49m\u001b[43m,\u001b[49m\n\u001b[0;32m    213\u001b[0m \u001b[43m        \u001b[49m\u001b[43mbatchSize\u001b[49m\u001b[43m,\u001b[49m\n\u001b[0;32m    214\u001b[0m \u001b[43m        \u001b[49m\u001b[43mserializer\u001b[49m\u001b[43m,\u001b[49m\n\u001b[0;32m    215\u001b[0m \u001b[43m        \u001b[49m\u001b[43mconf\u001b[49m\u001b[43m,\u001b[49m\n\u001b[0;32m    216\u001b[0m \u001b[43m        \u001b[49m\u001b[43mjsc\u001b[49m\u001b[43m,\u001b[49m\n\u001b[0;32m    217\u001b[0m \u001b[43m        \u001b[49m\u001b[43mprofiler_cls\u001b[49m\u001b[43m,\u001b[49m\n\u001b[0;32m    218\u001b[0m \u001b[43m        \u001b[49m\u001b[43mudf_profiler_cls\u001b[49m\u001b[43m,\u001b[49m\n\u001b[0;32m    219\u001b[0m \u001b[43m        \u001b[49m\u001b[43mmemory_profiler_cls\u001b[49m\u001b[43m,\u001b[49m\n\u001b[0;32m    220\u001b[0m \u001b[43m    \u001b[49m\u001b[43m)\u001b[49m\n\u001b[0;32m    221\u001b[0m \u001b[38;5;28;01mexcept\u001b[39;00m \u001b[38;5;167;01mBaseException\u001b[39;00m:\n\u001b[0;32m    222\u001b[0m     \u001b[38;5;66;03m# If an error occurs, clean up in order to allow future SparkContext creation:\u001b[39;00m\n\u001b[0;32m    223\u001b[0m     \u001b[38;5;28mself\u001b[39m\u001b[38;5;241m.\u001b[39mstop()\n",
      "File \u001b[1;32mc:\\Users\\Naufalqii\\Downloads\\Data Mastering\\Data engineering\\pyspark-projects\\pipeline-movie-data\\pyspark-movie-data-etl\\lib\\site-packages\\pyspark\\core\\context.py:300\u001b[0m, in \u001b[0;36mSparkContext._do_init\u001b[1;34m(self, master, appName, sparkHome, pyFiles, environment, batchSize, serializer, conf, jsc, profiler_cls, udf_profiler_cls, memory_profiler_cls)\u001b[0m\n\u001b[0;32m    297\u001b[0m \u001b[38;5;28mself\u001b[39m\u001b[38;5;241m.\u001b[39menvironment[\u001b[38;5;124m\"\u001b[39m\u001b[38;5;124mPYTHONHASHSEED\u001b[39m\u001b[38;5;124m\"\u001b[39m] \u001b[38;5;241m=\u001b[39m os\u001b[38;5;241m.\u001b[39menviron\u001b[38;5;241m.\u001b[39mget(\u001b[38;5;124m\"\u001b[39m\u001b[38;5;124mPYTHONHASHSEED\u001b[39m\u001b[38;5;124m\"\u001b[39m, \u001b[38;5;124m\"\u001b[39m\u001b[38;5;124m0\u001b[39m\u001b[38;5;124m\"\u001b[39m)\n\u001b[0;32m    299\u001b[0m \u001b[38;5;66;03m# Create the Java SparkContext through Py4J\u001b[39;00m\n\u001b[1;32m--> 300\u001b[0m \u001b[38;5;28mself\u001b[39m\u001b[38;5;241m.\u001b[39m_jsc \u001b[38;5;241m=\u001b[39m jsc \u001b[38;5;129;01mor\u001b[39;00m \u001b[38;5;28;43mself\u001b[39;49m\u001b[38;5;241;43m.\u001b[39;49m\u001b[43m_initialize_context\u001b[49m\u001b[43m(\u001b[49m\u001b[38;5;28;43mself\u001b[39;49m\u001b[38;5;241;43m.\u001b[39;49m\u001b[43m_conf\u001b[49m\u001b[38;5;241;43m.\u001b[39;49m\u001b[43m_jconf\u001b[49m\u001b[43m)\u001b[49m\n\u001b[0;32m    301\u001b[0m \u001b[38;5;66;03m# Reset the SparkConf to the one actually used by the SparkContext in JVM.\u001b[39;00m\n\u001b[0;32m    302\u001b[0m \u001b[38;5;28mself\u001b[39m\u001b[38;5;241m.\u001b[39m_conf \u001b[38;5;241m=\u001b[39m SparkConf(_jconf\u001b[38;5;241m=\u001b[39m\u001b[38;5;28mself\u001b[39m\u001b[38;5;241m.\u001b[39m_jsc\u001b[38;5;241m.\u001b[39msc()\u001b[38;5;241m.\u001b[39mconf())\n",
      "File \u001b[1;32mc:\\Users\\Naufalqii\\Downloads\\Data Mastering\\Data engineering\\pyspark-projects\\pipeline-movie-data\\pyspark-movie-data-etl\\lib\\site-packages\\pyspark\\core\\context.py:429\u001b[0m, in \u001b[0;36mSparkContext._initialize_context\u001b[1;34m(self, jconf)\u001b[0m\n\u001b[0;32m    425\u001b[0m \u001b[38;5;250m\u001b[39m\u001b[38;5;124;03m\"\"\"\u001b[39;00m\n\u001b[0;32m    426\u001b[0m \u001b[38;5;124;03mInitialize SparkContext in function to allow subclass specific initialization\u001b[39;00m\n\u001b[0;32m    427\u001b[0m \u001b[38;5;124;03m\"\"\"\u001b[39;00m\n\u001b[0;32m    428\u001b[0m \u001b[38;5;28;01massert\u001b[39;00m \u001b[38;5;28mself\u001b[39m\u001b[38;5;241m.\u001b[39m_jvm \u001b[38;5;129;01mis\u001b[39;00m \u001b[38;5;129;01mnot\u001b[39;00m \u001b[38;5;28;01mNone\u001b[39;00m\n\u001b[1;32m--> 429\u001b[0m \u001b[38;5;28;01mreturn\u001b[39;00m \u001b[38;5;28;43mself\u001b[39;49m\u001b[38;5;241;43m.\u001b[39;49m\u001b[43m_jvm\u001b[49m\u001b[38;5;241;43m.\u001b[39;49m\u001b[43mJavaSparkContext\u001b[49m\u001b[43m(\u001b[49m\u001b[43mjconf\u001b[49m\u001b[43m)\u001b[49m\n",
      "File \u001b[1;32mc:\\Users\\Naufalqii\\Downloads\\Data Mastering\\Data engineering\\pyspark-projects\\pipeline-movie-data\\pyspark-movie-data-etl\\lib\\site-packages\\py4j\\java_gateway.py:1627\u001b[0m, in \u001b[0;36mJavaClass.__call__\u001b[1;34m(self, *args)\u001b[0m\n\u001b[0;32m   1621\u001b[0m command \u001b[38;5;241m=\u001b[39m proto\u001b[38;5;241m.\u001b[39mCONSTRUCTOR_COMMAND_NAME \u001b[38;5;241m+\u001b[39m\\\n\u001b[0;32m   1622\u001b[0m     \u001b[38;5;28mself\u001b[39m\u001b[38;5;241m.\u001b[39m_command_header \u001b[38;5;241m+\u001b[39m\\\n\u001b[0;32m   1623\u001b[0m     args_command \u001b[38;5;241m+\u001b[39m\\\n\u001b[0;32m   1624\u001b[0m     proto\u001b[38;5;241m.\u001b[39mEND_COMMAND_PART\n\u001b[0;32m   1626\u001b[0m answer \u001b[38;5;241m=\u001b[39m \u001b[38;5;28mself\u001b[39m\u001b[38;5;241m.\u001b[39m_gateway_client\u001b[38;5;241m.\u001b[39msend_command(command)\n\u001b[1;32m-> 1627\u001b[0m return_value \u001b[38;5;241m=\u001b[39m \u001b[43mget_return_value\u001b[49m\u001b[43m(\u001b[49m\n\u001b[0;32m   1628\u001b[0m \u001b[43m    \u001b[49m\u001b[43manswer\u001b[49m\u001b[43m,\u001b[49m\u001b[43m \u001b[49m\u001b[38;5;28;43mself\u001b[39;49m\u001b[38;5;241;43m.\u001b[39;49m\u001b[43m_gateway_client\u001b[49m\u001b[43m,\u001b[49m\u001b[43m \u001b[49m\u001b[38;5;28;43;01mNone\u001b[39;49;00m\u001b[43m,\u001b[49m\u001b[43m \u001b[49m\u001b[38;5;28;43mself\u001b[39;49m\u001b[38;5;241;43m.\u001b[39;49m\u001b[43m_fqn\u001b[49m\u001b[43m)\u001b[49m\n\u001b[0;32m   1630\u001b[0m \u001b[38;5;28;01mfor\u001b[39;00m temp_arg \u001b[38;5;129;01min\u001b[39;00m temp_args:\n\u001b[0;32m   1631\u001b[0m     \u001b[38;5;28;01mif\u001b[39;00m \u001b[38;5;28mhasattr\u001b[39m(temp_arg, \u001b[38;5;124m\"\u001b[39m\u001b[38;5;124m_detach\u001b[39m\u001b[38;5;124m\"\u001b[39m):\n",
      "File \u001b[1;32mc:\\Users\\Naufalqii\\Downloads\\Data Mastering\\Data engineering\\pyspark-projects\\pipeline-movie-data\\pyspark-movie-data-etl\\lib\\site-packages\\py4j\\protocol.py:327\u001b[0m, in \u001b[0;36mget_return_value\u001b[1;34m(answer, gateway_client, target_id, name)\u001b[0m\n\u001b[0;32m    325\u001b[0m value \u001b[38;5;241m=\u001b[39m OUTPUT_CONVERTER[\u001b[38;5;28mtype\u001b[39m](answer[\u001b[38;5;241m2\u001b[39m:], gateway_client)\n\u001b[0;32m    326\u001b[0m \u001b[38;5;28;01mif\u001b[39;00m answer[\u001b[38;5;241m1\u001b[39m] \u001b[38;5;241m==\u001b[39m REFERENCE_TYPE:\n\u001b[1;32m--> 327\u001b[0m     \u001b[38;5;28;01mraise\u001b[39;00m Py4JJavaError(\n\u001b[0;32m    328\u001b[0m         \u001b[38;5;124m\"\u001b[39m\u001b[38;5;124mAn error occurred while calling \u001b[39m\u001b[38;5;132;01m{0}\u001b[39;00m\u001b[38;5;132;01m{1}\u001b[39;00m\u001b[38;5;132;01m{2}\u001b[39;00m\u001b[38;5;124m.\u001b[39m\u001b[38;5;130;01m\\n\u001b[39;00m\u001b[38;5;124m\"\u001b[39m\u001b[38;5;241m.\u001b[39m\n\u001b[0;32m    329\u001b[0m         \u001b[38;5;28mformat\u001b[39m(target_id, \u001b[38;5;124m\"\u001b[39m\u001b[38;5;124m.\u001b[39m\u001b[38;5;124m\"\u001b[39m, name), value)\n\u001b[0;32m    330\u001b[0m \u001b[38;5;28;01melse\u001b[39;00m:\n\u001b[0;32m    331\u001b[0m     \u001b[38;5;28;01mraise\u001b[39;00m Py4JError(\n\u001b[0;32m    332\u001b[0m         \u001b[38;5;124m\"\u001b[39m\u001b[38;5;124mAn error occurred while calling \u001b[39m\u001b[38;5;132;01m{0}\u001b[39;00m\u001b[38;5;132;01m{1}\u001b[39;00m\u001b[38;5;132;01m{2}\u001b[39;00m\u001b[38;5;124m. Trace:\u001b[39m\u001b[38;5;130;01m\\n\u001b[39;00m\u001b[38;5;132;01m{3}\u001b[39;00m\u001b[38;5;130;01m\\n\u001b[39;00m\u001b[38;5;124m\"\u001b[39m\u001b[38;5;241m.\u001b[39m\n\u001b[0;32m    333\u001b[0m         \u001b[38;5;28mformat\u001b[39m(target_id, \u001b[38;5;124m\"\u001b[39m\u001b[38;5;124m.\u001b[39m\u001b[38;5;124m\"\u001b[39m, name, value))\n",
      "\u001b[1;31mPy4JJavaError\u001b[0m: An error occurred while calling None.org.apache.spark.api.java.JavaSparkContext.\n: java.lang.RuntimeException: java.io.FileNotFoundException: java.io.FileNotFoundException: HADOOP_HOME and hadoop.home.dir are unset. -see https://cwiki.apache.org/confluence/display/HADOOP2/WindowsProblems\r\n\tat org.apache.hadoop.util.Shell.getWinUtilsPath(Shell.java:789)\r\n\tat org.apache.hadoop.util.Shell.getSetPermissionCommand(Shell.java:298)\r\n\tat org.apache.hadoop.fs.FileUtil.chmod(FileUtil.java:1305)\r\n\tat org.apache.hadoop.fs.FileUtil.chmod(FileUtil.java:1291)\r\n\tat org.apache.spark.util.Utils$.fetchFile(Utils.scala:417)\r\n\tat org.apache.spark.executor.Executor.$anonfun$updateDependencies$14(Executor.scala:1233)\r\n\tat org.apache.spark.executor.Executor.$anonfun$updateDependencies$14$adapted(Executor.scala:1224)\r\n\tat scala.collection.IterableOnceOps.foreach(IterableOnce.scala:619)\r\n\tat scala.collection.IterableOnceOps.foreach$(IterableOnce.scala:617)\r\n\tat scala.collection.AbstractIterable.foreach(Iterable.scala:935)\r\n\tat scala.collection.IterableOps$WithFilter.foreach(Iterable.scala:905)\r\n\tat org.apache.spark.executor.Executor.updateDependencies(Executor.scala:1224)\r\n\tat org.apache.spark.executor.Executor.<init>(Executor.scala:343)\r\n\tat org.apache.spark.scheduler.local.LocalEndpoint.<init>(LocalSchedulerBackend.scala:66)\r\n\tat org.apache.spark.scheduler.local.LocalSchedulerBackend.start(LocalSchedulerBackend.scala:136)\r\n\tat org.apache.spark.scheduler.TaskSchedulerImpl.start(TaskSchedulerImpl.scala:237)\r\n\tat org.apache.spark.SparkContext.<init>(SparkContext.scala:622)\r\n\tat org.apache.spark.api.java.JavaSparkContext.<init>(JavaSparkContext.scala:59)\r\n\tat java.base/jdk.internal.reflect.NativeConstructorAccessorImpl.newInstance0(Native Method)\r\n\tat java.base/jdk.internal.reflect.NativeConstructorAccessorImpl.newInstance(NativeConstructorAccessorImpl.java:75)\r\n\tat java.base/jdk.internal.reflect.DelegatingConstructorAccessorImpl.newInstance(DelegatingConstructorAccessorImpl.java:53)\r\n\tat java.base/java.lang.reflect.Constructor.newInstanceWithCaller(Constructor.java:502)\r\n\tat java.base/java.lang.reflect.Constructor.newInstance(Constructor.java:486)\r\n\tat py4j.reflection.MethodInvoker.invoke(MethodInvoker.java:247)\r\n\tat py4j.reflection.ReflectionEngine.invoke(ReflectionEngine.java:374)\r\n\tat py4j.Gateway.invoke(Gateway.java:238)\r\n\tat py4j.commands.ConstructorCommand.invokeConstructor(ConstructorCommand.java:80)\r\n\tat py4j.commands.ConstructorCommand.execute(ConstructorCommand.java:69)\r\n\tat py4j.ClientServerConnection.waitForCommands(ClientServerConnection.java:184)\r\n\tat py4j.ClientServerConnection.run(ClientServerConnection.java:108)\r\n\tat java.base/java.lang.Thread.run(Thread.java:1583)\r\nCaused by: java.io.FileNotFoundException: java.io.FileNotFoundException: HADOOP_HOME and hadoop.home.dir are unset. -see https://cwiki.apache.org/confluence/display/HADOOP2/WindowsProblems\r\n\tat org.apache.hadoop.util.Shell.fileNotFoundException(Shell.java:601)\r\n\tat org.apache.hadoop.util.Shell.getHadoopHomeDir(Shell.java:622)\r\n\tat org.apache.hadoop.util.Shell.getQualifiedBin(Shell.java:645)\r\n\tat org.apache.hadoop.util.Shell.<clinit>(Shell.java:742)\r\n\tat org.apache.hadoop.util.StringUtils.<clinit>(StringUtils.java:80)\r\n\tat org.apache.hadoop.conf.Configuration.getTimeDurationHelper(Configuration.java:1954)\r\n\tat org.apache.hadoop.conf.Configuration.getTimeDuration(Configuration.java:1912)\r\n\tat org.apache.hadoop.conf.Configuration.getTimeDuration(Configuration.java:1885)\r\n\tat org.apache.hadoop.util.ShutdownHookManager.getShutdownTimeout(ShutdownHookManager.java:183)\r\n\tat org.apache.hadoop.util.ShutdownHookManager$HookEntry.<init>(ShutdownHookManager.java:207)\r\n\tat org.apache.hadoop.util.ShutdownHookManager.addShutdownHook(ShutdownHookManager.java:304)\r\n\tat org.apache.spark.util.SparkShutdownHookManager.$anonfun$install$1(ShutdownHookManager.scala:194)\r\n\tat scala.runtime.java8.JFunction0$mcV$sp.apply(JFunction0$mcV$sp.scala:18)\r\n\tat scala.Option.fold(Option.scala:263)\r\n\tat org.apache.spark.util.SparkShutdownHookManager.install(ShutdownHookManager.scala:195)\r\n\tat org.apache.spark.util.ShutdownHookManager$.shutdownHooks$lzycompute(ShutdownHookManager.scala:55)\r\n\tat org.apache.spark.util.ShutdownHookManager$.shutdownHooks(ShutdownHookManager.scala:53)\r\n\tat org.apache.spark.util.ShutdownHookManager$.addShutdownHook(ShutdownHookManager.scala:159)\r\n\tat org.apache.spark.util.ShutdownHookManager$.<clinit>(ShutdownHookManager.scala:63)\r\n\tat org.apache.spark.util.Utils$.createTempDir(Utils.scala:250)\r\n\tat org.apache.spark.util.SparkFileUtils.createTempDir(SparkFileUtils.scala:103)\r\n\tat org.apache.spark.util.SparkFileUtils.createTempDir$(SparkFileUtils.scala:102)\r\n\tat org.apache.spark.util.Utils$.createTempDir(Utils.scala:99)\r\n\tat org.apache.spark.deploy.SparkSubmit.prepareSubmitEnvironment(SparkSubmit.scala:379)\r\n\tat org.apache.spark.deploy.SparkSubmit.org$apache$spark$deploy$SparkSubmit$$runMain(SparkSubmit.scala:961)\r\n\tat org.apache.spark.deploy.SparkSubmit.doRunMain$1(SparkSubmit.scala:204)\r\n\tat org.apache.spark.deploy.SparkSubmit.submit(SparkSubmit.scala:227)\r\n\tat org.apache.spark.deploy.SparkSubmit.doSubmit(SparkSubmit.scala:96)\r\n\tat org.apache.spark.deploy.SparkSubmit$$anon$2.doSubmit(SparkSubmit.scala:1132)\r\n\tat org.apache.spark.deploy.SparkSubmit$.main(SparkSubmit.scala:1141)\r\n\tat org.apache.spark.deploy.SparkSubmit.main(SparkSubmit.scala)\r\nCaused by: java.io.FileNotFoundException: HADOOP_HOME and hadoop.home.dir are unset.\r\n\tat org.apache.hadoop.util.Shell.checkHadoopHomeInner(Shell.java:521)\r\n\tat org.apache.hadoop.util.Shell.checkHadoopHome(Shell.java:492)\r\n\tat org.apache.hadoop.util.Shell.<clinit>(Shell.java:569)\r\n\t... 27 more\r\n"
     ]
    }
   ],
   "source": [
    "spark = SparkSession.builder \\\n",
    "                    .appName('pipeline movie data') \\\n",
    "                    .config('spark.jars', './jars/postgresql-42.7.6.jar') \\\n",
    "                    .getOrCreate()"
   ]
  },
  {
   "cell_type": "code",
   "execution_count": 4,
   "id": "402bc741",
   "metadata": {},
   "outputs": [
    {
     "data": {
      "text/html": [
       "\n",
       "            <div>\n",
       "                <p><b>SparkSession - in-memory</b></p>\n",
       "                \n",
       "        <div>\n",
       "            <p><b>SparkContext</b></p>\n",
       "\n",
       "            <p><a href=\"http://10.125.168.195:4040\">Spark UI</a></p>\n",
       "\n",
       "            <dl>\n",
       "              <dt>Version</dt>\n",
       "                <dd><code>v4.0.0</code></dd>\n",
       "              <dt>Master</dt>\n",
       "                <dd><code>local[*]</code></dd>\n",
       "              <dt>AppName</dt>\n",
       "                <dd><code>pipeline movie data</code></dd>\n",
       "            </dl>\n",
       "        </div>\n",
       "        \n",
       "            </div>\n",
       "        "
      ],
      "text/plain": [
       "<pyspark.sql.session.SparkSession at 0x25d6bdb9a20>"
      ]
     },
     "execution_count": 4,
     "metadata": {},
     "output_type": "execute_result"
    }
   ],
   "source": [
    "spark"
   ]
  },
  {
   "cell_type": "markdown",
   "id": "85e170c4",
   "metadata": {},
   "source": [
    "## Read Data"
   ]
  },
  {
   "cell_type": "code",
   "execution_count": 5,
   "id": "3e8dab31",
   "metadata": {},
   "outputs": [],
   "source": [
    "df_ratings = spark.read.option(\"Header\", \"True\").csv('ratings.csv')"
   ]
  },
  {
   "cell_type": "code",
   "execution_count": 7,
   "id": "5c3ab85f",
   "metadata": {},
   "outputs": [
    {
     "name": "stdout",
     "output_type": "stream",
     "text": [
      "+------+-------+------+----------+\n",
      "|userId|movieId|rating| timestamp|\n",
      "+------+-------+------+----------+\n",
      "|     1|    110|   1.0|1425941529|\n",
      "|     1|    147|   4.5|1425942435|\n",
      "|     1|    858|   5.0|1425941523|\n",
      "|     1|   1221|   5.0|1425941546|\n",
      "|     1|   1246|   5.0|1425941556|\n",
      "|     1|   1968|   4.0|1425942148|\n",
      "|     1|   2762|   4.5|1425941300|\n",
      "|     1|   2918|   5.0|1425941593|\n",
      "|     1|   2959|   4.0|1425941601|\n",
      "|     1|   4226|   4.0|1425942228|\n",
      "|     1|   4878|   5.0|1425941434|\n",
      "|     1|   5577|   5.0|1425941397|\n",
      "|     1|  33794|   4.0|1425942005|\n",
      "|     1|  54503|   3.5|1425941313|\n",
      "|     1|  58559|   4.0|1425942007|\n",
      "|     1|  59315|   5.0|1425941502|\n",
      "|     1|  68358|   5.0|1425941464|\n",
      "|     1|  69844|   5.0|1425942139|\n",
      "|     1|  73017|   5.0|1425942699|\n",
      "|     1|  81834|   5.0|1425942133|\n",
      "+------+-------+------+----------+\n",
      "only showing top 20 rows\n"
     ]
    }
   ],
   "source": [
    "df_ratings.show()"
   ]
  },
  {
   "cell_type": "code",
   "execution_count": 9,
   "id": "0d0daefc",
   "metadata": {},
   "outputs": [],
   "source": [
    "df_metadata = spark.read.option(\"header\", \"true\").csv('metadata/movies_metadata.csv')"
   ]
  },
  {
   "cell_type": "code",
   "execution_count": 14,
   "id": "46da5ca3",
   "metadata": {},
   "outputs": [
    {
     "name": "stdout",
     "output_type": "stream",
     "text": [
      "+-----+---------------------+---------+--------------------+--------------------+------+---------+-----------------+--------------------+--------------------+--------------------+--------------------+--------------------+--------------------+--------------------+----------+---------+--------------------+--------------------+--------------------+--------------------+------+------------+----------+\n",
      "|adult|belongs_to_collection|   budget|              genres|            homepage|    id|  imdb_id|original_language|      original_title|            overview|          popularity|         poster_path|production_companies|production_countries|        release_date|   revenue|  runtime|    spoken_languages|              status|             tagline|               title| video|vote_average|vote_count|\n",
      "+-----+---------------------+---------+--------------------+--------------------+------+---------+-----------------+--------------------+--------------------+--------------------+--------------------+--------------------+--------------------+--------------------+----------+---------+--------------------+--------------------+--------------------+--------------------+------+------------+----------+\n",
      "|False|                 NULL| 28000000|[{'id': 12, 'name...|                NULL| 11780|tt0114287|               en|             Rob Roy|In the highlands ...|           10.193549|/8O52wIIbskNl9kZn...|[{'name': 'United...|[{'iso_3166_1': '...|          1995-04-13|  31596911|    139.0|[{'iso_639_1': 'e...|            Released|Honor made him a ...|             Rob Roy| False|         6.5|       151|\n",
      "|False|                 NULL|        0|[{'id': 18, 'name...|                NULL| 34996|tt0112288|               en|       The Addiction|A vampiric doctor...|            3.137285|/ej0gD547grj5QMoK...|[{'name': 'Octobe...|[{'iso_3166_1': '...|          1995-01-10|         0|     82.0|[{'iso_639_1': 'e...|            Released|The dark is their...|       The Addiction| False|         6.4|        46|\n",
      "|False| {'id': 120794, 'n...|100000000|[{'id': 28, 'name...|                NULL|   414|tt0112462|               en|      Batman Forever|The Dark Knight o...|           13.321354|/eTMrHEhlFPHNxpqG...|[{'name': 'Warner...|[{'iso_3166_1': '...|          1995-06-16| 336529144|    121.0|[{'iso_639_1': 'e...|            Released|Courage now, trut...|      Batman Forever| False|         5.2|      1529|\n",
      "|False|                 NULL|        0|[{'id': 18, 'name...|                NULL|   649|tt0061395|               fr|       Belle de jour|Beautiful young h...|           10.142662|/rHvKWARrhNwSjbTM...|[{'name': 'Paris ...|[{'iso_3166_1': '...|          1967-05-24|         0|    101.0|[{'iso_639_1': 'f...|            Released|Luis Bunuel's Mas...|       Belle de Jour| False|         7.3|       163|\n",
      "|False|                 NULL|        0|[{'id': 18, 'name...|                NULL|  1873|tt0112495|               en|      Beyond Rangoon|Patricia Arquette...|             2.04189|/5CQgpLITPo33AEN1...|[{'name': 'Columb...|                  []|          1995-05-24|         0|    100.0|[{'iso_639_1': 'e...|            Released| Truth has a witness|      Beyond Rangoon| False|         6.4|        21|\n",
      "|False| {'id': 439053, 'n...|  2000000|[{'id': 35, 'name...|http://miramax.co...|  5894|tt0112541|               en|    Blue in the Face|Auggie runs a sma...|           11.528147|/qa9yf3OlfXbYBb0a...|[{'name': 'Mirama...|[{'iso_3166_1': '...|          1995-09-15|   1275000|     83.0|[{'iso_639_1': 'e...|            Released|Welcome to the pl...|    Blue in the Face| False|         6.8|        28|\n",
      "|False|                 NULL| 11000000|[{'id': 28, 'name...|                NULL|  1775|tt0109370|               en|      Canadian Bacon|Canadian Bacon is...|            5.391556|/qnKARYBofUzHkBY8...|[{'name': 'PolyGr...|[{'iso_3166_1': '...|          1995-06-08|    178104|     91.0|[{'iso_639_1': 'e...|            Released|I'll tell ya anot...|      Canadian Bacon| False|         5.9|        57|\n",
      "|False| {'id': 8819, 'nam...| 50000000|[{'id': 14, 'name...|                NULL|  8839|tt0112642|               en|              Casper|\"Furious that her...| Fatso and Stinki...|           12.812539|/cpMbvFDD2C21pqMN...|[{'name': 'Univer...|[{'iso_3166_1': '...|1995-05-26|287928194|               100.0|[{'iso_639_1': 'e...|            Released|    Get an afterlife|Casper|       False|       6.0|\n",
      "|False|                 NULL| 60000000|[{'id': 35, 'name...|                NULL|  6280|tt0110216|               en|              Junior|As part of a fert...|            6.710215|/bwt2hkLGKo5KAVMC...|[{'name': 'Univer...|[{'iso_3166_1': '...|          1994-11-22|  37000000|    109.0|[{'iso_639_1': 'e...|            Released|Nothing is inconc...|              Junior| False|         4.7|       381|\n",
      "|False|                 NULL| 25000000|[{'id': 9648, 'na...|                NULL| 20649|tt0112688|               en|            Clockers|Strike is a young...|            4.558992|/ugGhvQoGBrefqmke...|[{'name': 'Univer...|[{'iso_3166_1': '...|          1995-09-15|  13071518|    128.0|[{'iso_639_1': 'e...|            Released|When there's murd...|            Clockers| False|         6.8|        69|\n",
      "|False|                 NULL| 50000000|[{'id': 28, 'name...|                NULL| 10329|tt0112715|               en|               Congo|Eight people emba...|            7.260574|/wjeQaiAApgzdipkN...|[{'name': 'Paramo...|[{'iso_3166_1': '...|          1995-06-09| 152022101|    109.0|[{'iso_639_1': 'e...|            Released|Where you are the...|               Congo| False|         5.0|       214|\n",
      "|False|                 NULL| 53000000|[{'id': 28, 'name...|                NULL|  8963|tt0112740|               en|        Crimson Tide|On a US nuclear m...|            8.657365|/oDJyDX11HW4j565v...|[{'name': 'Hollyw...|[{'iso_3166_1': '...|          1995-05-12| 157387195|    116.0|[{'iso_639_1': 'e...|            Released|   Danger runs deep.|        Crimson Tide| False|         7.0|       508|\n",
      "|False|                 NULL|        0|[{'id': 99, 'name...|                NULL| 26564|tt0109508|               en|               Crumb|This movie chroni...|            3.620388|/yzK39sdkGoiSyKZE...|[{'name': 'Superi...|[{'iso_3166_1': '...|          1994-09-10|   3174695|    119.0|[{'iso_639_1': 'e...|            Released|Weird sex · Obses...|               Crumb| False|         7.6|        71|\n",
      "|False| {'id': 9649, 'nam...|  7000000|[{'id': 53, 'name...|                NULL|  8068|tt0112851|               en|           Desperado|A gunslinger is e...|            6.950458|/7eVo5DbP7gcsDzHc...|[{'name': 'Columb...|[{'iso_3166_1': '...|          1995-08-25|  25405445|    104.0|[{'iso_639_1': 'e...|            Released|When the smoke cl...|           Desperado| False|         6.8|       898|\n",
      "|False|                 NULL| 27000000|[{'id': 18, 'name...|                NULL|  8512|tt0112857|               en|Devil in a Blue D...|In late 1940s Los...|            4.646132|/z0Boi5LktVxDMFnp...|[{'name': 'TriSta...|[{'iso_3166_1': '...|          1995-09-15|  16140822|    102.0|[{'iso_639_1': 'e...|            Released|Private detective...|Devil in a Blue D...| False|         6.3|        88|\n",
      "|False| {'id': 1570, 'nam...| 90000000|[{'id': 28, 'name...|                NULL|  1572|tt0112864|               en|Die Hard: With a ...|\"New York detecti...|           15.138855|/ivpXGcsPZglyYrN6...|[{'name': 'Twenti...|[{'iso_3166_1': '...|          1995-05-19| 366101666|    128.0|[{'iso_639_1': 'e...|            Released|Think fast. Look ...|Die Hard: With a ...| False|         6.9|      2094|\n",
      "|False| {'id': 259398, 'n...|        0|[{'id': 28, 'name...|                NULL| 13552|tt0112887|               en| The Doom Generation|Jordan White and ...|            7.120806|/6ZwsSedjyzR0poDr...|[{'name': 'Why No...|[{'iso_3166_1': '...|          1995-10-27|         0|     80.0|[{'iso_639_1': 'e...|            Released|Sex. Violence. Wh...| The Doom Generation| False|         5.6|        57|\n",
      "|False|                 NULL|        0|[{'id': 18, 'name...|                NULL|259209|tt0113044|               en|       Feast of July|After an abandone...|            0.523575|/ntXzazC3ZaWy9Gjk...|[{'name': 'Touchs...|                  []|          1995-10-12|         0|    116.0|[{'iso_639_1': 'e...|            Released|There is no escap...|       Feast of July| False|         0.0|         0|\n",
      "|False|                 NULL|        0|[{'id': 9648, 'na...|                NULL|113520|tt0129134|               en|  The Hart of London|A surreal sequenc...|            0.012515|/Al9E6DckPp7Ijjj9...|                  []|[{'iso_3166_1': '...|          1970-11-30|         0|     80.0|[{'iso_639_1': 'e...|            Released|                NULL|  The Hart of London| False|         8.7|         6|\n",
      "|False|                 NULL| 55000000|[{'id': 28, 'name...|                NULL|  6520|tt0113071|               en|        First Knight|The timeless tale...|           15.178338|/8SRi8laZyPBdigx9...|[{'name': 'Columb...|[{'iso_3166_1': '...|          1995-07-07| 127600435|    134.0|[{'iso_639_1': 'e...|            Released|Their greatest ba...|        First Knight| False|         5.9|       319|\n",
      "+-----+---------------------+---------+--------------------+--------------------+------+---------+-----------------+--------------------+--------------------+--------------------+--------------------+--------------------+--------------------+--------------------+----------+---------+--------------------+--------------------+--------------------+--------------------+------+------------+----------+\n",
      "only showing top 20 rows\n"
     ]
    }
   ],
   "source": [
    "df_metadata.show()"
   ]
  },
  {
   "cell_type": "code",
   "execution_count": 13,
   "id": "58c637fb",
   "metadata": {},
   "outputs": [
    {
     "name": "stdout",
     "output_type": "stream",
     "text": [
      "+-----+-----------------------------------------------------------------------------------------------------------------------------------------------------------------+---------+-----------------------------------------------------------------------------------------------------------------------------------------------------------------------------------------------------+------------------------------------------+------+---------+-----------------+--------------------------+-------------------------------------------------------------------------------------------------------------------------------------------------------------------------------------------------------------------------------------------------------------------------------------------------------------------------------------------------------------------------------------------------------------------------------------------------------------------------------------------------------------------------------------------------------------------------------------------------------------------------------------------------------------------------+-----------------------------------------------------------------------+--------------------------------+-------------------------------------------------------------------------------------------------------------------------------------------------------------------------------+-------------------------------------------------------------------------------------------------------------------------------------------------+----------------------------------------------------------+----------+---------+-----------------------------------------------------------------------------------------------------------------------+----------------------------------------+------------------------------------------------------------------------------------------------------+--------------------------+------+------------+----------+\n",
      "|adult|belongs_to_collection                                                                                                                                            |budget   |genres                                                                                                                                                                                               |homepage                                  |id    |imdb_id  |original_language|original_title            |overview                                                                                                                                                                                                                                                                                                                                                                                                                                                                                                                                                                                                                                                                 |popularity                                                             |poster_path                     |production_companies                                                                                                                                                           |production_countries                                                                                                                             |release_date                                              |revenue   |runtime  |spoken_languages                                                                                                       |status                                  |tagline                                                                                               |title                     |video |vote_average|vote_count|\n",
      "+-----+-----------------------------------------------------------------------------------------------------------------------------------------------------------------+---------+-----------------------------------------------------------------------------------------------------------------------------------------------------------------------------------------------------+------------------------------------------+------+---------+-----------------+--------------------------+-------------------------------------------------------------------------------------------------------------------------------------------------------------------------------------------------------------------------------------------------------------------------------------------------------------------------------------------------------------------------------------------------------------------------------------------------------------------------------------------------------------------------------------------------------------------------------------------------------------------------------------------------------------------------+-----------------------------------------------------------------------+--------------------------------+-------------------------------------------------------------------------------------------------------------------------------------------------------------------------------+-------------------------------------------------------------------------------------------------------------------------------------------------+----------------------------------------------------------+----------+---------+-----------------------------------------------------------------------------------------------------------------------+----------------------------------------+------------------------------------------------------------------------------------------------------+--------------------------+------+------------+----------+\n",
      "|False|NULL                                                                                                                                                             |28000000 |[{'id': 12, 'name': 'Adventure'}]                                                                                                                                                                    |NULL                                      |11780 |tt0114287|en               |Rob Roy                   |In the highlands of Scotland in the 1700s, Rob Roy tries to lead his small town to a better future, by borrowing money from the local nobility to buy cattle to herd to market. When the money is stolen, Rob is forced into a Robin Hood lifestyle to defend his family and honour.                                                                                                                                                                                                                                                                                                                                                                                     |10.193549                                                              |/8O52wIIbskNl9kZnGvP9Gi4A2oN.jpg|[{'name': 'United Artists', 'id': 60}, {'name': 'Talisman Productions', 'id': 8989}]                                                                                           |[{'iso_3166_1': 'GB', 'name': 'United Kingdom'}, {'iso_3166_1': 'US', 'name': 'United States of America'}]                                       |1995-04-13                                                |31596911  |139.0    |[{'iso_639_1': 'en', 'name': 'English'}]                                                                               |Released                                |Honor made him a man. Courage made him a hero. History made him a legend.                             |Rob Roy                   |False |6.5         |151       |\n",
      "|False|NULL                                                                                                                                                             |0        |[{'id': 18, 'name': 'Drama'}, {'id': 27, 'name': 'Horror'}]                                                                                                                                          |NULL                                      |34996 |tt0112288|en               |The Addiction             |A vampiric doctoral student tries to follow the philosophy of a nocturnal comrade and control her thirst for blood.                                                                                                                                                                                                                                                                                                                                                                                                                                                                                                                                                      |3.137285                                                               |/ej0gD547grj5QMoKuzqKyHuc3Xi.jpg|[{'name': 'October Films', 'id': 236}, {'name': 'Guild', 'id': 1214}, {'name': 'Fastnet Films', 'id': 5353}]                                                                   |[{'iso_3166_1': 'US', 'name': 'United States of America'}]                                                                                       |1995-01-10                                                |0         |82.0     |[{'iso_639_1': 'en', 'name': 'English'}]                                                                               |Released                                |The dark is their sunlight. What makes them different is what keeps them alive.                       |The Addiction             |False |6.4         |46        |\n",
      "|False|{'id': 120794, 'name': 'Batman Collection', 'poster_path': '/adQxUvQW8HXNsvMG5aj71pHh9T.jpg', 'backdrop_path': '/9SpZvXLZDGGtFqVDByGqSGI64Kw.jpg'}               |100000000|[{'id': 28, 'name': 'Action'}, {'id': 80, 'name': 'Crime'}, {'id': 14, 'name': 'Fantasy'}]                                                                                                           |NULL                                      |414   |tt0112462|en               |Batman Forever            |The Dark Knight of Gotham City confronts a dastardly duo: Two-Face and the Riddler. Formerly District Attorney Harvey Dent, Two-Face believes Batman caused the courtroom accident which left him disfigured on one side. And Edward Nygma, computer-genius and former employee of millionaire Bruce Wayne, is out to get the philanthropist; as The Riddler. Former circus acrobat Dick Grayson, his family killed by Two-Face, becomes Wayne's ward and Batman's new partner Robin.                                                                                                                                                                                    |13.321354                                                              |/eTMrHEhlFPHNxpqGwpGGTdAa0xV.jpg|[{'name': 'Warner Bros.', 'id': 6194}, {'name': 'Polygram Filmed Entertainment', 'id': 31080}]                                                                                 |[{'iso_3166_1': 'GB', 'name': 'United Kingdom'}, {'iso_3166_1': 'US', 'name': 'United States of America'}]                                       |1995-06-16                                                |336529144 |121.0    |[{'iso_639_1': 'en', 'name': 'English'}]                                                                               |Released                                |Courage now, truth always...                                                                          |Batman Forever            |False |5.2         |1529      |\n",
      "|False|NULL                                                                                                                                                             |0        |[{'id': 18, 'name': 'Drama'}, {'id': 10749, 'name': 'Romance'}]                                                                                                                                      |NULL                                      |649   |tt0061395|fr               |Belle de jour             |Beautiful young housewife Séverine Serizy cannot reconcile her masochistic fantasies with her everyday life alongside dutiful husband Pierre. When her lovestruck friend Henri mentions a secretive high-class brothel run by Madame Anais, Séverine begins to work there during the day under the name Belle de Jour. But when one of her clients grows possessive, she must try to go back to her normal life.                                                                                                                                                                                                                                                         |10.142662                                                              |/rHvKWARrhNwSjbTMJrn5v4LtUJE.jpg|[{'name': 'Paris Films Productions', 'id': 386}, {'name': 'Five Films', 'id': 387}, {'name': 'Robert et Raymond Hakim', 'id': 11290}]                                          |[{'iso_3166_1': 'FR', 'name': 'France'}, {'iso_3166_1': 'IT', 'name': 'Italy'}]                                                                  |1967-05-24                                                |0         |101.0    |[{'iso_639_1': 'fr', 'name': 'Français'}, {'iso_639_1': 'mn', 'name': ''}, {'iso_639_1': 'es', 'name': 'Español'}]     |Released                                |Luis Bunuel's Masterpiece of Erotica!                                                                 |Belle de Jour             |False |7.3         |163       |\n",
      "|False|NULL                                                                                                                                                             |0        |[{'id': 18, 'name': 'Drama'}, {'id': 53, 'name': 'Thriller'}]                                                                                                                                        |NULL                                      |1873  |tt0112495|en               |Beyond Rangoon            |Patricia Arquette stars as American widow Laura Bowman, a young doctor who's unwittingly drawn into political turmoil while vacationing in Burma in the late 1980s, in this fictionalized drama based on actual events. Bowman initially left San Francisco with her sister (Frances McDormand) in an attempt to escape painful memories of her husband and son's violent deaths. But her fight to escape to Thailand could prove just as harrowing.                                                                                                                                                                                                                     |2.04189                                                                |/5CQgpLITPo33AEN1jULsyiHxSDJ.jpg|[{'name': 'Columbia Pictures', 'id': 5}, {'name': 'Castle Rock Entertainment', 'id': 97}]                                                                                      |[]                                                                                                                                               |1995-05-24                                                |0         |100.0    |[{'iso_639_1': 'en', 'name': 'English'}]                                                                               |Released                                |Truth has a witness                                                                                   |Beyond Rangoon            |False |6.4         |21        |\n",
      "|False|{'id': 439053, 'name': 'Brooklyn Cigar Store Collection', 'poster_path': '/bgiPsYjbjbRFmEeUfYlp8ZDBVJJ.jpg', 'backdrop_path': '/r4Ov7P8OADcOxfpuDujoJl2Cqry.jpg'}|2000000  |[{'id': 35, 'name': 'Comedy'}]                                                                                                                                                                       |http://miramax.com/movie/blue-in-the-face/|5894  |tt0112541|en               |Blue in the Face          |Auggie runs a small tobacco shop in Brooklyn, New York. The whole neighborhood comes to visit him to buy cigarettes and have some small talk. During the movie Lou Reed tries to explain why he has to have a cut on his health insurance bill if he keeps smoking and Madonna acts as a Singing Telegram.                                                                                                                                                                                                                                                                                                                                                               |11.528147                                                              |/qa9yf3OlfXbYBb0af0mpawGB6TI.jpg|[{'name': 'Miramax Films', 'id': 14}, {'name': 'InterAL', 'id': 30334}]                                                                                                        |[{'iso_3166_1': 'US', 'name': 'United States of America'}]                                                                                       |1995-09-15                                                |1275000   |83.0     |[{'iso_639_1': 'en', 'name': 'English'}]                                                                               |Released                                |Welcome to the planet Brooklyn.                                                                       |Blue in the Face          |False |6.8         |28        |\n",
      "|False|NULL                                                                                                                                                             |11000000 |[{'id': 28, 'name': 'Action'}, {'id': 35, 'name': 'Comedy'}]                                                                                                                                         |NULL                                      |1775  |tt0109370|en               |Canadian Bacon            |Canadian Bacon is the only fictitious film from Director Michael Moore. This comedy is about an American president who decides to go to war to bring the public’s opinion of him up during election time. Canadian Bacon is actor John Candy’s last film.                                                                                                                                                                                                                                                                                                                                                                                                                |5.391556                                                               |/qnKARYBofUzHkBY8x9GWSNSoota.jpg|[{'name': 'PolyGram Filmed Entertainment', 'id': 1382}]                                                                                                                        |[{'iso_3166_1': 'CA', 'name': 'Canada'}, {'iso_3166_1': 'US', 'name': 'United States of America'}]                                               |1995-06-08                                                |178104    |91.0     |[{'iso_639_1': 'en', 'name': 'English'}]                                                                               |Released                                |I'll tell ya another thing, their beer sucks!                                                         |Canadian Bacon            |False |5.9         |57        |\n",
      "|False|{'id': 8819, 'name': 'Casper Collection', 'poster_path': '/nWKbJAOFwJlJm24dTovfQuUJOc2.jpg', 'backdrop_path': None}                                              |50000000 |[{'id': 14, 'name': 'Fantasy'}, {'id': 35, 'name': 'Comedy'}, {'id': 10751, 'name': 'Family'}]                                                                                                       |NULL                                      |8839  |tt0112642|en               |Casper                    |\"Furious that her late father only willed her his gloomy-looking mansion rather than his millions, Carrigan Crittenden is ready to burn the place to the ground when she discovers a map to a treasure hidden in the house. But when she enters the rickety mansion to seek her claim, she is frightened away by a wicked wave of ghosts. Determined to get her hands on this hidden fortune, she hires afterlife therapist Dr. James Harvey to exorcise the ghosts from the mansion. Harvey and his daughter Kat move in, and soon Kat meets Casper, the ghost of a young boy who's \"\"the friendliest ghost you know.\"\" But not so friendly are Casper's uncles--Stretch| Fatso and Stinkie--who are determined to drive all \"\"fleshies\"\" away.\"|12.812539                       |/cpMbvFDD2C21pqMNXVPhSWGQBR9.jpg                                                                                                                                               |[{'name': 'Universal Pictures', 'id': 33}, {'name': 'Amblin Entertainment', 'id': 56}, {'name': 'The Harvey Entertainment Company', 'id': 11098}]|[{'iso_3166_1': 'US', 'name': 'United States of America'}]|1995-05-26|287928194|100.0                                                                                                                  |[{'iso_639_1': 'en', 'name': 'English'}]|Released                                                                                              |Get an afterlife          |Casper|False       |6.0       |\n",
      "|False|NULL                                                                                                                                                             |60000000 |[{'id': 35, 'name': 'Comedy'}, {'id': 10751, 'name': 'Family'}, {'id': 10749, 'name': 'Romance'}]                                                                                                    |NULL                                      |6280  |tt0110216|en               |Junior                    |As part of a fertility research project, a male scientist agrees to carry a pregnancy in his own body.                                                                                                                                                                                                                                                                                                                                                                                                                                                                                                                                                                   |6.710215                                                               |/bwt2hkLGKo5KAVMCw4u1umUPhax.jpg|[{'name': 'Universal Pictures', 'id': 33}, {'name': 'Northern Lights Entertainment', 'id': 8816}]                                                                              |[{'iso_3166_1': 'US', 'name': 'United States of America'}]                                                                                       |1994-11-22                                                |37000000  |109.0    |[{'iso_639_1': 'en', 'name': 'English'}]                                                                               |Released                                |Nothing is inconceivable                                                                              |Junior                    |False |4.7         |381       |\n",
      "|False|NULL                                                                                                                                                             |25000000 |[{'id': 9648, 'name': 'Mystery'}, {'id': 80, 'name': 'Crime'}, {'id': 18, 'name': 'Drama'}]                                                                                                          |NULL                                      |20649 |tt0112688|en               |Clockers                  |Strike is a young city drug pusher under the tutelage of drug-lord Rodney Little.When a night man at a fast-food restaurant is found with four bullets in his body, Strike's older brother turns himself in as the killer. Det. Rocco Klein doesn't buy the story, however, and sets out to find the truth, and it seems that all the fingers point toward Strike &amp; Rodney.                                                                                                                                                                                                                                                                                          |4.558992                                                               |/ugGhvQoGBrefqmkeBvBgT4YVCRk.jpg|[{'name': 'Universal Pictures', 'id': 33}, {'name': '40 Acres & A Mule Filmworks', 'id': 4319}]                                                                                |[{'iso_3166_1': 'US', 'name': 'United States of America'}]                                                                                       |1995-09-15                                                |13071518  |128.0    |[{'iso_639_1': 'en', 'name': 'English'}]                                                                               |Released                                |When there's murder on the streets, everyone is a suspect.                                            |Clockers                  |False |6.8         |69        |\n",
      "|False|NULL                                                                                                                                                             |50000000 |[{'id': 28, 'name': 'Action'}, {'id': 12, 'name': 'Adventure'}, {'id': 18, 'name': 'Drama'}, {'id': 9648, 'name': 'Mystery'}, {'id': 878, 'name': 'Science Fiction'}, {'id': 53, 'name': 'Thriller'}]|NULL                                      |10329 |tt0112715|en               |Congo                     |Eight people embark on an expedition into the Congo, a mysterious expanse of unexplored Africa where human greed and the laws of nature have gone berserk. When the thrill-seekers -- some with ulterior motives -- stumble across a race of killer apes.                                                                                                                                                                                                                                                                                                                                                                                                                |7.260574                                                               |/wjeQaiAApgzdipkNXhQnBrqjBY9.jpg|[{'name': 'Paramount Pictures', 'id': 4}, {'name': 'Kennedy/Marshall Company, The', 'id': 7383}]                                                                               |[{'iso_3166_1': 'US', 'name': 'United States of America'}]                                                                                       |1995-06-09                                                |152022101 |109.0    |[{'iso_639_1': 'en', 'name': 'English'}, {'iso_639_1': 'fr', 'name': 'Français'}]                                      |Released                                |Where you are the endangered species.                                                                 |Congo                     |False |5.0         |214       |\n",
      "|False|NULL                                                                                                                                                             |53000000 |[{'id': 28, 'name': 'Action'}, {'id': 53, 'name': 'Thriller'}, {'id': 18, 'name': 'Drama'}]                                                                                                          |NULL                                      |8963  |tt0112740|en               |Crimson Tide              |On a US nuclear missile sub, a young first officer stages a mutiny to prevent his trigger happy captain from launching his missiles before confirming his orders to do so.                                                                                                                                                                                                                                                                                                                                                                                                                                                                                               |8.657365                                                               |/oDJyDX11HW4j565vUjmFagKxDTQ.jpg|[{'name': 'Hollywood Pictures', 'id': 915}, {'name': 'Don Simpson/Jerry Bruckheimer Films', 'id': 10288}]                                                                      |[{'iso_3166_1': 'US', 'name': 'United States of America'}]                                                                                       |1995-05-12                                                |157387195 |116.0    |[{'iso_639_1': 'en', 'name': 'English'}]                                                                               |Released                                |Danger runs deep.                                                                                     |Crimson Tide              |False |7.0         |508       |\n",
      "|False|NULL                                                                                                                                                             |0        |[{'id': 99, 'name': 'Documentary'}]                                                                                                                                                                  |NULL                                      |26564 |tt0109508|en               |Crumb                     |This movie chronicles the life and times of R. Crumb. Robert Crumb is the cartoonist/artist who drew Keep On Truckin', Fritz the Cat, and played a major pioneering role in the genesis of underground comix. Through interviews with his mother, two brothers, wife, and ex-girlfriends, as well as selections from his vast quantity of graphic art, we are treated to a darkly comic ride through one man's subconscious mind.                                                                                                                                                                                                                                        |3.620388                                                               |/yzK39sdkGoiSyKZEWT6HQzaC0BX.jpg|[{'name': 'Superior Pictures', 'id': 4532}]                                                                                                                                    |[{'iso_3166_1': 'US', 'name': 'United States of America'}]                                                                                       |1994-09-10                                                |3174695   |119.0    |[{'iso_639_1': 'en', 'name': 'English'}]                                                                               |Released                                |Weird sex · Obsession · Comic books                                                                   |Crumb                     |False |7.6         |71        |\n",
      "|False|{'id': 9649, 'name': 'Mexico Trilogy', 'poster_path': '/qmPhILSFQKaRyc81mVJWl05tHai.jpg', 'backdrop_path': '/6p1OzuIKWnTDfDea7IpB9xra5J.jpg'}                    |7000000  |[{'id': 53, 'name': 'Thriller'}, {'id': 28, 'name': 'Action'}, {'id': 80, 'name': 'Crime'}]                                                                                                          |NULL                                      |8068  |tt0112851|en               |Desperado                 |A gunslinger is embroiled in a war with a local drug runner.                                                                                                                                                                                                                                                                                                                                                                                                                                                                                                                                                                                                             |6.950458                                                               |/7eVo5DbP7gcsDzHcpRCTA6JAuF2.jpg|[{'name': 'Columbia Pictures', 'id': 5}, {'name': 'Los Hooligans Productions', 'id': 11705}]                                                                                   |[{'iso_3166_1': 'US', 'name': 'United States of America'}]                                                                                       |1995-08-25                                                |25405445  |104.0    |[{'iso_639_1': 'en', 'name': 'English'}]                                                                               |Released                                |When the smoke clears, it just means he's reloading.                                                  |Desperado                 |False |6.8         |898       |\n",
      "|False|NULL                                                                                                                                                             |27000000 |[{'id': 18, 'name': 'Drama'}, {'id': 9648, 'name': 'Mystery'}, {'id': 53, 'name': 'Thriller'}]                                                                                                       |NULL                                      |8512  |tt0112857|en               |Devil in a Blue Dress     |In late 1940s Los Angeles, Easy Rawlins is an unemployed black World War II veteran with few job prospects. At a bar, Easy meets DeWitt Albright, a mysterious white man looking for someone to investigate the disappearance of a missing white woman named Daphne Monet, who he suspects is hiding out in one of the city's black jazz clubs. Strapped for money and facing house payments, Easy takes the job, but soon finds himself in over his head.                                                                                                                                                                                                               |4.646132                                                               |/z0Boi5LktVxDMFnpyAqQEnYfPtM.jpg|[{'name': 'TriStar Pictures', 'id': 559}, {'name': 'Mundy Lane Entertainment', 'id': 2510}]                                                                                    |[{'iso_3166_1': 'US', 'name': 'United States of America'}]                                                                                       |1995-09-15                                                |16140822  |102.0    |[{'iso_639_1': 'en', 'name': 'English'}]                                                                               |Released                                |Private detective Easy Rawlins has been caught on the wrong side of the most dangerous secret in town.|Devil in a Blue Dress     |False |6.3         |88        |\n",
      "|False|{'id': 1570, 'name': 'Die Hard Collection', 'poster_path': '/dQP1lu4tBtCiAMeCRcuTFpJiM7y.jpg', 'backdrop_path': '/5kHVblr87FUScuab1PVSsK692IL.jpg'}              |90000000 |[{'id': 28, 'name': 'Action'}, {'id': 53, 'name': 'Thriller'}]                                                                                                                                       |NULL                                      |1572  |tt0112864|en               |Die Hard: With a Vengeance|\"New York detective John McClane is back and kicking bad-guy butt in the third installment of this action-packed series, which finds him teaming with civilian Zeus Carver to prevent the loss of innocent lives. McClane thought he'd seen it all, until a genius named Simon engages McClane, his new \"\"partner\"\" -- and his beloved city -- in a deadly game that demands their concentration.\"                                                                                                                                                                                                                                                                       |15.138855                                                              |/ivpXGcsPZglyYrN65THWSD7JM3q.jpg|[{'name': 'Twentieth Century Fox Film Corporation', 'id': 306}, {'name': 'Cinergi Pictures Entertainment', 'id': 1504}]                                                        |[{'iso_3166_1': 'US', 'name': 'United States of America'}]                                                                                       |1995-05-19                                                |366101666 |128.0    |[{'iso_639_1': 'en', 'name': 'English'}, {'iso_639_1': 'de', 'name': 'Deutsch'}, {'iso_639_1': 'ro', 'name': 'Română'}]|Released                                |Think fast. Look alive. Die hard.                                                                     |Die Hard: With a Vengeance|False |6.9         |2094      |\n",
      "|False|{'id': 259398, 'name': 'Teenage Apocalypse Trilogy', 'poster_path': '/kSLUbpxgcHErkaUc0nB193Nph6Y.jpg', 'backdrop_path': '/3pzDZR85GPgdC6b4HwHqzqeEDfB.jpg'}     |0        |[{'id': 28, 'name': 'Action'}, {'id': 35, 'name': 'Comedy'}, {'id': 80, 'name': 'Crime'}, {'id': 18, 'name': 'Drama'}]                                                                               |NULL                                      |13552 |tt0112887|en               |The Doom Generation       |Jordan White and Amy Blue, two troubled teens, pick up an adolescent drifter, Xavier Red. Together, the threesome embark on a sex and violence-filled journey through an America of psychos and quickiemarts.                                                                                                                                                                                                                                                                                                                                                                                                                                                            |7.120806                                                               |/6ZwsSedjyzR0poDrKlJaYWoseaH.jpg|[{'name': 'Why Not Productions', 'id': 729}, {'name': 'Desperate Pictures', 'id': 1474}, {'name': 'Blurco', 'id': 2765}, {'name': 'The Teen Angst Movie Company', 'id': 18902}]|[{'iso_3166_1': 'FR', 'name': 'France'}, {'iso_3166_1': 'US', 'name': 'United States of America'}]                                               |1995-10-27                                                |0         |80.0     |[{'iso_639_1': 'en', 'name': 'English'}]                                                                               |Released                                |Sex. Violence. Whatever.                                                                              |The Doom Generation       |False |5.6         |57        |\n",
      "|False|NULL                                                                                                                                                             |0        |[{'id': 18, 'name': 'Drama'}, {'id': 80, 'name': 'Crime'}]                                                                                                                                           |NULL                                      |259209|tt0113044|en               |Feast of July             |After an abandoned young woman in late 19th Century England is taken in by a rural couple with three handsome sons, tragic consequences result.                                                                                                                                                                                                                                                                                                                                                                                                                                                                                                                          |0.523575                                                               |/ntXzazC3ZaWy9GjkFzZGtJFLCZp.jpg|[{'name': 'Touchstone Pictures', 'id': 9195}, {'name': 'Merchant Ivory Productions', 'id': 20740}]                                                                             |[]                                                                                                                                               |1995-10-12                                                |0         |116.0    |[{'iso_639_1': 'en', 'name': 'English'}]                                                                               |Released                                |There is no escape from the past.                                                                     |Feast of July             |False |0.0         |0         |\n",
      "|False|NULL                                                                                                                                                             |0        |[{'id': 9648, 'name': 'Mystery'}]                                                                                                                                                                    |NULL                                      |113520|tt0129134|en               |The Hart of London        |A surreal sequence of images of nature and London, Ontario, life and death.                                                                                                                                                                                                                                                                                                                                                                                                                                                                                                                                                                                              |0.012515                                                               |/Al9E6DckPp7Ijjj9heogMJdWZvG.jpg|[]                                                                                                                                                                             |[{'iso_3166_1': 'CA', 'name': 'Canada'}]                                                                                                         |1970-11-30                                                |0         |80.0     |[{'iso_639_1': 'en', 'name': 'English'}]                                                                               |Released                                |NULL                                                                                                  |The Hart of London        |False |8.7         |6         |\n",
      "|False|NULL                                                                                                                                                             |55000000 |[{'id': 28, 'name': 'Action'}, {'id': 12, 'name': 'Adventure'}, {'id': 18, 'name': 'Drama'}, {'id': 10749, 'name': 'Romance'}]                                                                       |NULL                                      |6520  |tt0113071|en               |First Knight              |The timeless tale of King Arthur and the legend of Camelot are retold in this passionate period drama. Arthur is reluctant to hand the crown to Lancelot, and Guinevere is torn between her loyalty to her husband and her growing love for his rival. But Lancelot must balance his loyalty to the throne with the rewards of true love.                                                                                                                                                                                                                                                                                                                                |15.178338                                                              |/8SRi8laZyPBdigx9qn7m3mriiRQ.jpg|[{'name': 'Columbia Pictures Corporation', 'id': 441}, {'name': 'First Knight Productions', 'id': 10158}]                                                                      |[{'iso_3166_1': 'US', 'name': 'United States of America'}]                                                                                       |1995-07-07                                                |127600435 |134.0    |[{'iso_639_1': 'en', 'name': 'English'}, {'iso_639_1': 'fr', 'name': 'Français'}]                                      |Released                                |Their greatest battle would be for her love.                                                          |First Knight              |False |5.9         |319       |\n",
      "+-----+-----------------------------------------------------------------------------------------------------------------------------------------------------------------+---------+-----------------------------------------------------------------------------------------------------------------------------------------------------------------------------------------------------+------------------------------------------+------+---------+-----------------+--------------------------+-------------------------------------------------------------------------------------------------------------------------------------------------------------------------------------------------------------------------------------------------------------------------------------------------------------------------------------------------------------------------------------------------------------------------------------------------------------------------------------------------------------------------------------------------------------------------------------------------------------------------------------------------------------------------+-----------------------------------------------------------------------+--------------------------------+-------------------------------------------------------------------------------------------------------------------------------------------------------------------------------+-------------------------------------------------------------------------------------------------------------------------------------------------+----------------------------------------------------------+----------+---------+-----------------------------------------------------------------------------------------------------------------------+----------------------------------------+------------------------------------------------------------------------------------------------------+--------------------------+------+------------+----------+\n",
      "only showing top 20 rows\n"
     ]
    }
   ],
   "source": [
    "df_metadata.show(truncate=False)"
   ]
  },
  {
   "cell_type": "code",
   "execution_count": 11,
   "id": "a268c770",
   "metadata": {},
   "outputs": [
    {
     "name": "stdout",
     "output_type": "stream",
     "text": [
      "root\n",
      " |-- userId: string (nullable = true)\n",
      " |-- movieId: string (nullable = true)\n",
      " |-- rating: string (nullable = true)\n",
      " |-- timestamp: string (nullable = true)\n",
      "\n"
     ]
    }
   ],
   "source": [
    "df_ratings.printSchema()"
   ]
  },
  {
   "cell_type": "code",
   "execution_count": 12,
   "id": "2c36f1a7",
   "metadata": {},
   "outputs": [
    {
     "name": "stdout",
     "output_type": "stream",
     "text": [
      "root\n",
      " |-- adult: string (nullable = true)\n",
      " |-- belongs_to_collection: string (nullable = true)\n",
      " |-- budget: string (nullable = true)\n",
      " |-- genres: string (nullable = true)\n",
      " |-- homepage: string (nullable = true)\n",
      " |-- id: string (nullable = true)\n",
      " |-- imdb_id: string (nullable = true)\n",
      " |-- original_language: string (nullable = true)\n",
      " |-- original_title: string (nullable = true)\n",
      " |-- overview: string (nullable = true)\n",
      " |-- popularity: string (nullable = true)\n",
      " |-- poster_path: string (nullable = true)\n",
      " |-- production_companies: string (nullable = true)\n",
      " |-- production_countries: string (nullable = true)\n",
      " |-- release_date: string (nullable = true)\n",
      " |-- revenue: string (nullable = true)\n",
      " |-- runtime: string (nullable = true)\n",
      " |-- spoken_languages: string (nullable = true)\n",
      " |-- status: string (nullable = true)\n",
      " |-- tagline: string (nullable = true)\n",
      " |-- title: string (nullable = true)\n",
      " |-- video: string (nullable = true)\n",
      " |-- vote_average: string (nullable = true)\n",
      " |-- vote_count: string (nullable = true)\n",
      "\n"
     ]
    }
   ],
   "source": [
    "df_metadata.printSchema()"
   ]
  },
  {
   "cell_type": "markdown",
   "id": "6ac54680",
   "metadata": {},
   "source": [
    "## Data Preprocessing"
   ]
  },
  {
   "cell_type": "code",
   "execution_count": 87,
   "id": "3cc1384a",
   "metadata": {},
   "outputs": [],
   "source": [
    "joined_df = df_ratings.join(df_metadata, df_ratings.movieId == df_metadata.id, how='inner')"
   ]
  },
  {
   "cell_type": "code",
   "execution_count": 88,
   "id": "dfef545a",
   "metadata": {},
   "outputs": [
    {
     "name": "stdout",
     "output_type": "stream",
     "text": [
      "+------+-------+------+----------+-----+---------------------+------+--------------------+--------+------+---------+-----------------+--------------+--------------------+----------+--------------------+--------------------+--------------------+------------+-------+-------+--------------------+--------+--------------------+--------------+-----+------------+----------+\n",
      "|userId|movieId|rating| timestamp|adult|belongs_to_collection|budget|              genres|homepage|    id|  imdb_id|original_language|original_title|            overview|popularity|         poster_path|production_companies|production_countries|release_date|revenue|runtime|    spoken_languages|  status|             tagline|         title|video|vote_average|vote_count|\n",
      "+------+-------+------+----------+-----+---------------------+------+--------------------+--------+------+---------+-----------------+--------------+--------------------+----------+--------------------+--------------------+--------------------+------------+-------+-------+--------------------+--------+--------------------+--------------+-----+------------+----------+\n",
      "|   429| 100010|   1.0|1475231879|False|                 NULL|     0|[{'id': 18, 'name...|    NULL|100010|tt0032477|               en|Flight Command|A rookie flyer, E...|  0.769266|/zrLmIoNozsKM4Ckj...|[{'name': 'Metro-...|[{'iso_3166_1': '...|  1940-12-27|      0|  116.0|[{'iso_639_1': 'e...|Released|\"T-H-R-I-L-L AMER...|Flight Command|False|         6.0|         1|\n",
      "+------+-------+------+----------+-----+---------------------+------+--------------------+--------+------+---------+-----------------+--------------+--------------------+----------+--------------------+--------------------+--------------------+------------+-------+-------+--------------------+--------+--------------------+--------------+-----+------------+----------+\n",
      "only showing top 1 row\n"
     ]
    }
   ],
   "source": [
    "joined_df.show(1)"
   ]
  },
  {
   "cell_type": "code",
   "execution_count": 89,
   "id": "d8fdb210",
   "metadata": {},
   "outputs": [],
   "source": [
    "rename_cols = {\n",
    "    'userId': 'user_id',\n",
    "    'movieId': 'movie_id'\n",
    "}"
   ]
  },
  {
   "cell_type": "code",
   "execution_count": 90,
   "id": "c6f94db5",
   "metadata": {},
   "outputs": [],
   "source": [
    "joined_df = joined_df.withColumnsRenamed(colsMap=rename_cols)"
   ]
  },
  {
   "cell_type": "code",
   "execution_count": 91,
   "id": "5d8f8760",
   "metadata": {},
   "outputs": [
    {
     "name": "stdout",
     "output_type": "stream",
     "text": [
      "+-------+--------+------+----------+-----+---------------------+------+--------------------+--------+------+---------+-----------------+--------------+--------------------+----------+--------------------+--------------------+--------------------+------------+-------+-------+--------------------+--------+--------------------+--------------+-----+------------+----------+\n",
      "|user_id|movie_id|rating| timestamp|adult|belongs_to_collection|budget|              genres|homepage|    id|  imdb_id|original_language|original_title|            overview|popularity|         poster_path|production_companies|production_countries|release_date|revenue|runtime|    spoken_languages|  status|             tagline|         title|video|vote_average|vote_count|\n",
      "+-------+--------+------+----------+-----+---------------------+------+--------------------+--------+------+---------+-----------------+--------------+--------------------+----------+--------------------+--------------------+--------------------+------------+-------+-------+--------------------+--------+--------------------+--------------+-----+------------+----------+\n",
      "|    429|  100010|   1.0|1475231879|False|                 NULL|     0|[{'id': 18, 'name...|    NULL|100010|tt0032477|               en|Flight Command|A rookie flyer, E...|  0.769266|/zrLmIoNozsKM4Ckj...|[{'name': 'Metro-...|[{'iso_3166_1': '...|  1940-12-27|      0|  116.0|[{'iso_639_1': 'e...|Released|\"T-H-R-I-L-L AMER...|Flight Command|False|         6.0|         1|\n",
      "+-------+--------+------+----------+-----+---------------------+------+--------------------+--------+------+---------+-----------------+--------------+--------------------+----------+--------------------+--------------------+--------------------+------------+-------+-------+--------------------+--------+--------------------+--------------+-----+------------+----------+\n",
      "only showing top 1 row\n"
     ]
    }
   ],
   "source": [
    "joined_df.show(1)"
   ]
  },
  {
   "cell_type": "code",
   "execution_count": 92,
   "id": "7abd2fea",
   "metadata": {},
   "outputs": [
    {
     "data": {
      "text/plain": [
       "['user_id',\n",
       " 'movie_id',\n",
       " 'rating',\n",
       " 'timestamp',\n",
       " 'adult',\n",
       " 'belongs_to_collection',\n",
       " 'budget',\n",
       " 'genres',\n",
       " 'homepage',\n",
       " 'id',\n",
       " 'imdb_id',\n",
       " 'original_language',\n",
       " 'original_title',\n",
       " 'overview',\n",
       " 'popularity',\n",
       " 'poster_path',\n",
       " 'production_companies',\n",
       " 'production_countries',\n",
       " 'release_date',\n",
       " 'revenue',\n",
       " 'runtime',\n",
       " 'spoken_languages',\n",
       " 'status',\n",
       " 'tagline',\n",
       " 'title',\n",
       " 'video',\n",
       " 'vote_average',\n",
       " 'vote_count']"
      ]
     },
     "execution_count": 92,
     "metadata": {},
     "output_type": "execute_result"
    }
   ],
   "source": [
    "joined_df.columns"
   ]
  },
  {
   "cell_type": "code",
   "execution_count": 93,
   "id": "c801b0b5",
   "metadata": {},
   "outputs": [],
   "source": [
    "selected_columns = [\n",
    "    'user_id',\n",
    "    'movie_id',\n",
    "    'rating',\n",
    "    'timestamp',\n",
    "    'adult',\n",
    "    'budget',\n",
    "    'genres',\n",
    "    'original_language',\n",
    "    'original_title',\n",
    "    'overview',\n",
    "    'popularity',\n",
    "    'production_companies',\n",
    "    'release_date',\n",
    "    'revenue',\n",
    "    'runtime',\n",
    "    'spoken_languages',\n",
    "    'status',\n",
    "    'tagline',\n",
    "    'title',\n",
    "    'vote_average',\n",
    "    'vote_count'\n",
    " ]"
   ]
  },
  {
   "cell_type": "code",
   "execution_count": 94,
   "id": "01b98fed",
   "metadata": {},
   "outputs": [],
   "source": [
    "joined_df = joined_df.select(selected_columns)"
   ]
  },
  {
   "cell_type": "code",
   "execution_count": 95,
   "id": "e52d17b5",
   "metadata": {},
   "outputs": [
    {
     "name": "stdout",
     "output_type": "stream",
     "text": [
      "+-------+--------+------+----------+-----+------+--------------------+-----------------+--------------+--------------------+----------+--------------------+------------+-------+-------+--------------------+--------+--------------------+--------------+------------+----------+\n",
      "|user_id|movie_id|rating| timestamp|adult|budget|              genres|original_language|original_title|            overview|popularity|production_companies|release_date|revenue|runtime|    spoken_languages|  status|             tagline|         title|vote_average|vote_count|\n",
      "+-------+--------+------+----------+-----+------+--------------------+-----------------+--------------+--------------------+----------+--------------------+------------+-------+-------+--------------------+--------+--------------------+--------------+------------+----------+\n",
      "|    429|  100010|   1.0|1475231879|False|     0|[{'id': 18, 'name...|               en|Flight Command|A rookie flyer, E...|  0.769266|[{'name': 'Metro-...|  1940-12-27|      0|  116.0|[{'iso_639_1': 'e...|Released|\"T-H-R-I-L-L AMER...|Flight Command|         6.0|         1|\n",
      "+-------+--------+------+----------+-----+------+--------------------+-----------------+--------------+--------------------+----------+--------------------+------------+-------+-------+--------------------+--------+--------------------+--------------+------------+----------+\n",
      "only showing top 1 row\n"
     ]
    }
   ],
   "source": [
    "joined_df.show(1)"
   ]
  },
  {
   "cell_type": "code",
   "execution_count": 80,
   "id": "c09af032",
   "metadata": {},
   "outputs": [
    {
     "name": "stdout",
     "output_type": "stream",
     "text": [
      "root\n",
      " |-- user_id: string (nullable = true)\n",
      " |-- movie_id: string (nullable = true)\n",
      " |-- rating: string (nullable = true)\n",
      " |-- timestamp: string (nullable = true)\n",
      " |-- adult: string (nullable = true)\n",
      " |-- budget: string (nullable = true)\n",
      " |-- genres: string (nullable = true)\n",
      " |-- original_language: string (nullable = true)\n",
      " |-- original_title: string (nullable = true)\n",
      " |-- overview: string (nullable = true)\n",
      " |-- popularity: string (nullable = true)\n",
      " |-- production_companies: string (nullable = true)\n",
      " |-- release_date: string (nullable = true)\n",
      " |-- revenue: string (nullable = true)\n",
      " |-- runtime: string (nullable = true)\n",
      " |-- spoken_languages: string (nullable = true)\n",
      " |-- status: string (nullable = true)\n",
      " |-- tagline: string (nullable = true)\n",
      " |-- title: string (nullable = true)\n",
      " |-- vote_average: string (nullable = true)\n",
      " |-- vote_count: string (nullable = true)\n",
      "\n"
     ]
    }
   ],
   "source": [
    "joined_df.printSchema()"
   ]
  },
  {
   "cell_type": "code",
   "execution_count": 96,
   "id": "798945fc",
   "metadata": {},
   "outputs": [],
   "source": [
    "casting_cols = {\n",
    "    \"user_id\": \"int\",\n",
    "    \"movie_id\": \"int\",\n",
    "    \"budget\": \"float\",\n",
    "    \"popularity\": \"float\",\n",
    "    \"revenue\": \"float\",\n",
    "    \"runtime\": \"float\",\n",
    "    \"vote_average\": \"float\",\n",
    "    \"vote_count\": \"float\"\n",
    "}"
   ]
  },
  {
   "cell_type": "code",
   "execution_count": 97,
   "id": "c9663099",
   "metadata": {},
   "outputs": [],
   "source": [
    "for col_name, col_type in casting_cols.items():\n",
    "    joined_df = joined_df.withColumn(col_name, joined_df[col_name].cast(col_type))"
   ]
  },
  {
   "cell_type": "code",
   "execution_count": null,
   "id": "5339a631",
   "metadata": {},
   "outputs": [],
   "source": [
    "# SAMA SEPERTI CELL DI ATAS\n",
    "# for col_name, col_type in casting_cols.items():\n",
    "#     joined_df = joined_df.withColumn(col_name, joined_df[col_name].cast(col_type))"
   ]
  },
  {
   "cell_type": "code",
   "execution_count": 98,
   "id": "541e218b",
   "metadata": {},
   "outputs": [
    {
     "name": "stdout",
     "output_type": "stream",
     "text": [
      "root\n",
      " |-- user_id: integer (nullable = true)\n",
      " |-- movie_id: integer (nullable = true)\n",
      " |-- rating: string (nullable = true)\n",
      " |-- timestamp: string (nullable = true)\n",
      " |-- adult: string (nullable = true)\n",
      " |-- budget: float (nullable = true)\n",
      " |-- genres: string (nullable = true)\n",
      " |-- original_language: string (nullable = true)\n",
      " |-- original_title: string (nullable = true)\n",
      " |-- overview: string (nullable = true)\n",
      " |-- popularity: float (nullable = true)\n",
      " |-- production_companies: string (nullable = true)\n",
      " |-- release_date: string (nullable = true)\n",
      " |-- revenue: float (nullable = true)\n",
      " |-- runtime: float (nullable = true)\n",
      " |-- spoken_languages: string (nullable = true)\n",
      " |-- status: string (nullable = true)\n",
      " |-- tagline: string (nullable = true)\n",
      " |-- title: string (nullable = true)\n",
      " |-- vote_average: float (nullable = true)\n",
      " |-- vote_count: float (nullable = true)\n",
      "\n"
     ]
    }
   ],
   "source": [
    "joined_df.printSchema()"
   ]
  },
  {
   "cell_type": "code",
   "execution_count": 99,
   "id": "ac3b5a95",
   "metadata": {},
   "outputs": [
    {
     "name": "stdout",
     "output_type": "stream",
     "text": [
      "+-------+--------+------+----------+-----+------+--------------------+-----------------+--------------+--------------------+----------+--------------------+------------+-------+-------+--------------------+--------+--------------------+--------------+------------+----------+\n",
      "|user_id|movie_id|rating| timestamp|adult|budget|              genres|original_language|original_title|            overview|popularity|production_companies|release_date|revenue|runtime|    spoken_languages|  status|             tagline|         title|vote_average|vote_count|\n",
      "+-------+--------+------+----------+-----+------+--------------------+-----------------+--------------+--------------------+----------+--------------------+------------+-------+-------+--------------------+--------+--------------------+--------------+------------+----------+\n",
      "|    429|  100010|   1.0|1475231879|False|   0.0|[{'id': 18, 'name...|               en|Flight Command|A rookie flyer, E...|  0.769266|[{'name': 'Metro-...|  1940-12-27|    0.0|  116.0|[{'iso_639_1': 'e...|Released|\"T-H-R-I-L-L AMER...|Flight Command|         6.0|       1.0|\n",
      "+-------+--------+------+----------+-----+------+--------------------+-----------------+--------------+--------------------+----------+--------------------+------------+-------+-------+--------------------+--------+--------------------+--------------+------------+----------+\n",
      "only showing top 1 row\n"
     ]
    }
   ],
   "source": [
    "from pyspark.sql.functions import from_unixtime\n",
    "\n",
    "joined_df.show(1)"
   ]
  },
  {
   "cell_type": "code",
   "execution_count": 100,
   "id": "ba0c8929",
   "metadata": {},
   "outputs": [],
   "source": [
    "# convert unix time to timestamp\n",
    "\n",
    "joined_df = joined_df.withColumn('timestamp', from_unixtime('timestamp').alias('ts'))"
   ]
  },
  {
   "cell_type": "code",
   "execution_count": 101,
   "id": "7dee0f87",
   "metadata": {},
   "outputs": [
    {
     "name": "stdout",
     "output_type": "stream",
     "text": [
      "+-------+--------+------+-------------------+-----+------+--------------------+-----------------+--------------+--------------------+----------+--------------------+------------+-------+-------+--------------------+--------+--------------------+--------------+------------+----------+\n",
      "|user_id|movie_id|rating|          timestamp|adult|budget|              genres|original_language|original_title|            overview|popularity|production_companies|release_date|revenue|runtime|    spoken_languages|  status|             tagline|         title|vote_average|vote_count|\n",
      "+-------+--------+------+-------------------+-----+------+--------------------+-----------------+--------------+--------------------+----------+--------------------+------------+-------+-------+--------------------+--------+--------------------+--------------+------------+----------+\n",
      "|    429|  100010|   1.0|2016-09-30 17:37:59|False|   0.0|[{'id': 18, 'name...|               en|Flight Command|A rookie flyer, E...|  0.769266|[{'name': 'Metro-...|  1940-12-27|    0.0|  116.0|[{'iso_639_1': 'e...|Released|\"T-H-R-I-L-L AMER...|Flight Command|         6.0|       1.0|\n",
      "+-------+--------+------+-------------------+-----+------+--------------------+-----------------+--------------+--------------------+----------+--------------------+------------+-------+-------+--------------------+--------+--------------------+--------------+------------+----------+\n",
      "only showing top 1 row\n"
     ]
    }
   ],
   "source": [
    "joined_df.show(1)"
   ]
  },
  {
   "cell_type": "code",
   "execution_count": 102,
   "id": "5191e07a",
   "metadata": {},
   "outputs": [
    {
     "data": {
      "text/plain": [
       "10880835"
      ]
     },
     "execution_count": 102,
     "metadata": {},
     "output_type": "execute_result"
    }
   ],
   "source": [
    "joined_df.count()"
   ]
  },
  {
   "cell_type": "code",
   "execution_count": null,
   "id": "9a15b3b6",
   "metadata": {},
   "outputs": [],
   "source": [
    "# temp = joined_df.select('*')"
   ]
  },
  {
   "cell_type": "code",
   "execution_count": 103,
   "id": "3855ff90",
   "metadata": {},
   "outputs": [
    {
     "name": "stdout",
     "output_type": "stream",
     "text": [
      "+-------+--------+------+-------------------+-----+--------+--------------------+-----------------+--------------------+--------------------+----------+--------------------+------------+-------+-------+--------------------+--------+--------------------+--------------------+------------+----------+\n",
      "|user_id|movie_id|rating|          timestamp|adult|  budget|              genres|original_language|      original_title|            overview|popularity|production_companies|release_date|revenue|runtime|    spoken_languages|  status|             tagline|               title|vote_average|vote_count|\n",
      "+-------+--------+------+-------------------+-----+--------+--------------------+-----------------+--------------------+--------------------+----------+--------------------+------------+-------+-------+--------------------+--------+--------------------+--------------------+------------+----------+\n",
      "|    837|  120478|   5.0|2017-08-03 20:05:49|False|115000.0|[{'id': 27, 'name...|               en|The Haunting of W...|When a tour guide...|  1.235331|[{'name': 'The Gl...|  2012-07-31|    0.0|   90.0|[{'iso_639_1': 'e...|Released|Just because you ...|The Haunting of W...|         3.9|      17.0|\n",
      "+-------+--------+------+-------------------+-----+--------+--------------------+-----------------+--------------------+--------------------+----------+--------------------+------------+-------+-------+--------------------+--------+--------------------+--------------------+------------+----------+\n",
      "only showing top 1 row\n"
     ]
    }
   ],
   "source": [
    "# filter data: release_date >= 2010-01-01 and timestamp >= 2017-01-01 00:00:00\n",
    "\n",
    "joined_df = joined_df.filter(\"release_date >= '2010-01-01' AND timestamp >= '2017-01-01 00:00:00'\")\n",
    "joined_df.show(1)"
   ]
  },
  {
   "cell_type": "code",
   "execution_count": 104,
   "id": "7be01fe2",
   "metadata": {},
   "outputs": [
    {
     "data": {
      "text/plain": [
       "47700"
      ]
     },
     "execution_count": 104,
     "metadata": {},
     "output_type": "execute_result"
    }
   ],
   "source": [
    "joined_df.count()"
   ]
  },
  {
   "cell_type": "code",
   "execution_count": 105,
   "id": "dbf54a62",
   "metadata": {},
   "outputs": [],
   "source": [
    "joined_df = joined_df.withColumn('profit', joined_df['revenue']-joined_df['budget'])"
   ]
  },
  {
   "cell_type": "code",
   "execution_count": 106,
   "id": "90503335",
   "metadata": {},
   "outputs": [
    {
     "name": "stdout",
     "output_type": "stream",
     "text": [
      "+-------+--------+------+-------------------+-----+--------+--------------------+-----------------+--------------------+--------------------+----------+--------------------+------------+-------+-------+--------------------+--------+--------------------+--------------------+------------+----------+---------+\n",
      "|user_id|movie_id|rating|          timestamp|adult|  budget|              genres|original_language|      original_title|            overview|popularity|production_companies|release_date|revenue|runtime|    spoken_languages|  status|             tagline|               title|vote_average|vote_count|   profit|\n",
      "+-------+--------+------+-------------------+-----+--------+--------------------+-----------------+--------------------+--------------------+----------+--------------------+------------+-------+-------+--------------------+--------+--------------------+--------------------+------------+----------+---------+\n",
      "|    837|  120478|   5.0|2017-08-03 20:05:49|False|115000.0|[{'id': 27, 'name...|               en|The Haunting of W...|When a tour guide...|  1.235331|[{'name': 'The Gl...|  2012-07-31|    0.0|   90.0|[{'iso_639_1': 'e...|Released|Just because you ...|The Haunting of W...|         3.9|      17.0|-115000.0|\n",
      "+-------+--------+------+-------------------+-----+--------+--------------------+-----------------+--------------------+--------------------+----------+--------------------+------------+-------+-------+--------------------+--------+--------------------+--------------------+------------+----------+---------+\n",
      "only showing top 1 row\n"
     ]
    }
   ],
   "source": [
    "joined_df.show(1)"
   ]
  },
  {
   "cell_type": "code",
   "execution_count": 107,
   "id": "5e2ed480",
   "metadata": {},
   "outputs": [
    {
     "name": "stdout",
     "output_type": "stream",
     "text": [
      "root\n",
      " |-- user_id: integer (nullable = true)\n",
      " |-- movie_id: integer (nullable = true)\n",
      " |-- rating: string (nullable = true)\n",
      " |-- timestamp: string (nullable = true)\n",
      " |-- adult: string (nullable = true)\n",
      " |-- budget: float (nullable = true)\n",
      " |-- genres: string (nullable = true)\n",
      " |-- original_language: string (nullable = true)\n",
      " |-- original_title: string (nullable = true)\n",
      " |-- overview: string (nullable = true)\n",
      " |-- popularity: float (nullable = true)\n",
      " |-- production_companies: string (nullable = true)\n",
      " |-- release_date: string (nullable = true)\n",
      " |-- revenue: float (nullable = true)\n",
      " |-- runtime: float (nullable = true)\n",
      " |-- spoken_languages: string (nullable = true)\n",
      " |-- status: string (nullable = true)\n",
      " |-- tagline: string (nullable = true)\n",
      " |-- title: string (nullable = true)\n",
      " |-- vote_average: float (nullable = true)\n",
      " |-- vote_count: float (nullable = true)\n",
      " |-- profit: float (nullable = true)\n",
      "\n"
     ]
    }
   ],
   "source": [
    "joined_df.printSchema()"
   ]
  },
  {
   "cell_type": "markdown",
   "id": "71626708",
   "metadata": {},
   "source": [
    "## Load to Postgres"
   ]
  },
  {
   "cell_type": "code",
   "execution_count": 110,
   "id": "6e5873a8",
   "metadata": {},
   "outputs": [
    {
     "ename": "Py4JJavaError",
     "evalue": "An error occurred while calling o708.jdbc.\n: java.sql.SQLException: No suitable driver\r\n\tat java.sql/java.sql.DriverManager.getDriver(DriverManager.java:300)\r\n\tat org.apache.spark.sql.execution.datasources.jdbc.JDBCOptions.$anonfun$driverClass$2(JDBCOptions.scala:118)\r\n\tat scala.Option.getOrElse(Option.scala:201)\r\n\tat org.apache.spark.sql.execution.datasources.jdbc.JDBCOptions.<init>(JDBCOptions.scala:118)\r\n\tat org.apache.spark.sql.execution.datasources.jdbc.JdbcOptionsInWrite.<init>(JDBCOptions.scala:272)\r\n\tat org.apache.spark.sql.execution.datasources.jdbc.JdbcOptionsInWrite.<init>(JDBCOptions.scala:276)\r\n\tat org.apache.spark.sql.execution.datasources.jdbc.JdbcRelationProvider.createRelation(JdbcRelationProvider.scala:48)\r\n\tat org.apache.spark.sql.execution.datasources.SaveIntoDataSourceCommand.run(SaveIntoDataSourceCommand.scala:55)\r\n\tat org.apache.spark.sql.execution.command.ExecutedCommandExec.sideEffectResult$lzycompute(commands.scala:79)\r\n\tat org.apache.spark.sql.execution.command.ExecutedCommandExec.sideEffectResult(commands.scala:77)\r\n\tat org.apache.spark.sql.execution.command.ExecutedCommandExec.executeCollect(commands.scala:88)\r\n\tat org.apache.spark.sql.execution.QueryExecution.$anonfun$eagerlyExecuteCommands$2(QueryExecution.scala:155)\r\n\tat org.apache.spark.sql.execution.SQLExecution$.$anonfun$withNewExecutionId0$8(SQLExecution.scala:162)\r\n\tat org.apache.spark.sql.execution.SQLExecution$.withSessionTagsApplied(SQLExecution.scala:268)\r\n\tat org.apache.spark.sql.execution.SQLExecution$.$anonfun$withNewExecutionId0$7(SQLExecution.scala:124)\r\n\tat org.apache.spark.JobArtifactSet$.withActiveJobArtifactState(JobArtifactSet.scala:94)\r\n\tat org.apache.spark.sql.artifact.ArtifactManager.$anonfun$withResources$1(ArtifactManager.scala:112)\r\n\tat org.apache.spark.sql.artifact.ArtifactManager.withClassLoaderIfNeeded(ArtifactManager.scala:106)\r\n\tat org.apache.spark.sql.artifact.ArtifactManager.withResources(ArtifactManager.scala:111)\r\n\tat org.apache.spark.sql.execution.SQLExecution$.$anonfun$withNewExecutionId0$6(SQLExecution.scala:124)\r\n\tat org.apache.spark.sql.execution.SQLExecution$.withSQLConfPropagated(SQLExecution.scala:291)\r\n\tat org.apache.spark.sql.execution.SQLExecution$.$anonfun$withNewExecutionId0$1(SQLExecution.scala:123)\r\n\tat org.apache.spark.sql.SparkSession.withActive(SparkSession.scala:804)\r\n\tat org.apache.spark.sql.execution.SQLExecution$.withNewExecutionId0(SQLExecution.scala:77)\r\n\tat org.apache.spark.sql.execution.SQLExecution$.withNewExecutionId(SQLExecution.scala:233)\r\n\tat org.apache.spark.sql.execution.QueryExecution.$anonfun$eagerlyExecuteCommands$1(QueryExecution.scala:155)\r\n\tat org.apache.spark.sql.execution.QueryExecution$.withInternalError(QueryExecution.scala:654)\r\n\tat org.apache.spark.sql.execution.QueryExecution.org$apache$spark$sql$execution$QueryExecution$$eagerlyExecute$1(QueryExecution.scala:154)\r\n\tat org.apache.spark.sql.execution.QueryExecution$$anonfun$eagerlyExecuteCommands$3.applyOrElse(QueryExecution.scala:169)\r\n\tat org.apache.spark.sql.execution.QueryExecution$$anonfun$eagerlyExecuteCommands$3.applyOrElse(QueryExecution.scala:164)\r\n\tat org.apache.spark.sql.catalyst.trees.TreeNode.$anonfun$transformDownWithPruning$1(TreeNode.scala:470)\r\n\tat org.apache.spark.sql.catalyst.trees.CurrentOrigin$.withOrigin(origin.scala:86)\r\n\tat org.apache.spark.sql.catalyst.trees.TreeNode.transformDownWithPruning(TreeNode.scala:470)\r\n\tat org.apache.spark.sql.catalyst.plans.logical.LogicalPlan.org$apache$spark$sql$catalyst$plans$logical$AnalysisHelper$$super$transformDownWithPruning(LogicalPlan.scala:37)\r\n\tat org.apache.spark.sql.catalyst.plans.logical.AnalysisHelper.transformDownWithPruning(AnalysisHelper.scala:360)\r\n\tat org.apache.spark.sql.catalyst.plans.logical.AnalysisHelper.transformDownWithPruning$(AnalysisHelper.scala:356)\r\n\tat org.apache.spark.sql.catalyst.plans.logical.LogicalPlan.transformDownWithPruning(LogicalPlan.scala:37)\r\n\tat org.apache.spark.sql.catalyst.plans.logical.LogicalPlan.transformDownWithPruning(LogicalPlan.scala:37)\r\n\tat org.apache.spark.sql.catalyst.trees.TreeNode.transformDown(TreeNode.scala:446)\r\n\tat org.apache.spark.sql.execution.QueryExecution.eagerlyExecuteCommands(QueryExecution.scala:164)\r\n\tat org.apache.spark.sql.execution.QueryExecution.$anonfun$lazyCommandExecuted$1(QueryExecution.scala:126)\r\n\tat scala.util.Try$.apply(Try.scala:217)\r\n\tat org.apache.spark.util.Utils$.doTryWithCallerStacktrace(Utils.scala:1378)\r\n\tat org.apache.spark.util.Utils$.getTryWithCallerStacktrace(Utils.scala:1439)\r\n\tat org.apache.spark.util.LazyTry.get(LazyTry.scala:58)\r\n\tat org.apache.spark.sql.execution.QueryExecution.commandExecuted(QueryExecution.scala:131)\r\n\tat org.apache.spark.sql.execution.QueryExecution.assertCommandExecuted(QueryExecution.scala:192)\r\n\tat org.apache.spark.sql.classic.DataFrameWriter.runCommand(DataFrameWriter.scala:622)\r\n\tat org.apache.spark.sql.classic.DataFrameWriter.saveToV1Source(DataFrameWriter.scala:273)\r\n\tat org.apache.spark.sql.classic.DataFrameWriter.saveInternal(DataFrameWriter.scala:241)\r\n\tat org.apache.spark.sql.classic.DataFrameWriter.save(DataFrameWriter.scala:126)\r\n\tat org.apache.spark.sql.DataFrameWriter.jdbc(DataFrameWriter.scala:334)\r\n\tat java.base/jdk.internal.reflect.NativeMethodAccessorImpl.invoke0(Native Method)\r\n\tat java.base/jdk.internal.reflect.NativeMethodAccessorImpl.invoke(NativeMethodAccessorImpl.java:75)\r\n\tat java.base/jdk.internal.reflect.DelegatingMethodAccessorImpl.invoke(DelegatingMethodAccessorImpl.java:52)\r\n\tat java.base/java.lang.reflect.Method.invoke(Method.java:580)\r\n\tat py4j.reflection.MethodInvoker.invoke(MethodInvoker.java:244)\r\n\tat py4j.reflection.ReflectionEngine.invoke(ReflectionEngine.java:374)\r\n\tat py4j.Gateway.invoke(Gateway.java:282)\r\n\tat py4j.commands.AbstractCommand.invokeMethod(AbstractCommand.java:132)\r\n\tat py4j.commands.CallCommand.execute(CallCommand.java:79)\r\n\tat py4j.ClientServerConnection.waitForCommands(ClientServerConnection.java:184)\r\n\tat py4j.ClientServerConnection.run(ClientServerConnection.java:108)\r\n\tat java.base/java.lang.Thread.run(Thread.java:1583)\r\n\tSuppressed: org.apache.spark.util.Utils$OriginalTryStackTraceException: Full stacktrace of original doTryWithCallerStacktrace caller\r\n\t\tat java.sql/java.sql.DriverManager.getDriver(DriverManager.java:300)\r\n\t\tat org.apache.spark.sql.execution.datasources.jdbc.JDBCOptions.$anonfun$driverClass$2(JDBCOptions.scala:118)\r\n\t\tat scala.Option.getOrElse(Option.scala:201)\r\n\t\tat org.apache.spark.sql.execution.datasources.jdbc.JDBCOptions.<init>(JDBCOptions.scala:118)\r\n\t\tat org.apache.spark.sql.execution.datasources.jdbc.JdbcOptionsInWrite.<init>(JDBCOptions.scala:272)\r\n\t\tat org.apache.spark.sql.execution.datasources.jdbc.JdbcOptionsInWrite.<init>(JDBCOptions.scala:276)\r\n\t\tat org.apache.spark.sql.execution.datasources.jdbc.JdbcRelationProvider.createRelation(JdbcRelationProvider.scala:48)\r\n\t\tat org.apache.spark.sql.execution.datasources.SaveIntoDataSourceCommand.run(SaveIntoDataSourceCommand.scala:55)\r\n\t\tat org.apache.spark.sql.execution.command.ExecutedCommandExec.sideEffectResult$lzycompute(commands.scala:79)\r\n\t\tat org.apache.spark.sql.execution.command.ExecutedCommandExec.sideEffectResult(commands.scala:77)\r\n\t\tat org.apache.spark.sql.execution.command.ExecutedCommandExec.executeCollect(commands.scala:88)\r\n\t\tat org.apache.spark.sql.execution.QueryExecution.$anonfun$eagerlyExecuteCommands$2(QueryExecution.scala:155)\r\n\t\tat org.apache.spark.sql.execution.SQLExecution$.$anonfun$withNewExecutionId0$8(SQLExecution.scala:162)\r\n\t\tat org.apache.spark.sql.execution.SQLExecution$.withSessionTagsApplied(SQLExecution.scala:268)\r\n\t\tat org.apache.spark.sql.execution.SQLExecution$.$anonfun$withNewExecutionId0$7(SQLExecution.scala:124)\r\n\t\tat org.apache.spark.JobArtifactSet$.withActiveJobArtifactState(JobArtifactSet.scala:94)\r\n\t\tat org.apache.spark.sql.artifact.ArtifactManager.$anonfun$withResources$1(ArtifactManager.scala:112)\r\n\t\tat org.apache.spark.sql.artifact.ArtifactManager.withClassLoaderIfNeeded(ArtifactManager.scala:106)\r\n\t\tat org.apache.spark.sql.artifact.ArtifactManager.withResources(ArtifactManager.scala:111)\r\n\t\tat org.apache.spark.sql.execution.SQLExecution$.$anonfun$withNewExecutionId0$6(SQLExecution.scala:124)\r\n\t\tat org.apache.spark.sql.execution.SQLExecution$.withSQLConfPropagated(SQLExecution.scala:291)\r\n\t\tat org.apache.spark.sql.execution.SQLExecution$.$anonfun$withNewExecutionId0$1(SQLExecution.scala:123)\r\n\t\tat org.apache.spark.sql.SparkSession.withActive(SparkSession.scala:804)\r\n\t\tat org.apache.spark.sql.execution.SQLExecution$.withNewExecutionId0(SQLExecution.scala:77)\r\n\t\tat org.apache.spark.sql.execution.SQLExecution$.withNewExecutionId(SQLExecution.scala:233)\r\n\t\tat org.apache.spark.sql.execution.QueryExecution.$anonfun$eagerlyExecuteCommands$1(QueryExecution.scala:155)\r\n\t\tat org.apache.spark.sql.execution.QueryExecution$.withInternalError(QueryExecution.scala:654)\r\n\t\tat org.apache.spark.sql.execution.QueryExecution.org$apache$spark$sql$execution$QueryExecution$$eagerlyExecute$1(QueryExecution.scala:154)\r\n\t\tat org.apache.spark.sql.execution.QueryExecution$$anonfun$eagerlyExecuteCommands$3.applyOrElse(QueryExecution.scala:169)\r\n\t\tat org.apache.spark.sql.execution.QueryExecution$$anonfun$eagerlyExecuteCommands$3.applyOrElse(QueryExecution.scala:164)\r\n\t\tat org.apache.spark.sql.catalyst.trees.TreeNode.$anonfun$transformDownWithPruning$1(TreeNode.scala:470)\r\n\t\tat org.apache.spark.sql.catalyst.trees.CurrentOrigin$.withOrigin(origin.scala:86)\r\n\t\tat org.apache.spark.sql.catalyst.trees.TreeNode.transformDownWithPruning(TreeNode.scala:470)\r\n\t\tat org.apache.spark.sql.catalyst.plans.logical.LogicalPlan.org$apache$spark$sql$catalyst$plans$logical$AnalysisHelper$$super$transformDownWithPruning(LogicalPlan.scala:37)\r\n\t\tat org.apache.spark.sql.catalyst.plans.logical.AnalysisHelper.transformDownWithPruning(AnalysisHelper.scala:360)\r\n\t\tat org.apache.spark.sql.catalyst.plans.logical.AnalysisHelper.transformDownWithPruning$(AnalysisHelper.scala:356)\r\n\t\tat org.apache.spark.sql.catalyst.plans.logical.LogicalPlan.transformDownWithPruning(LogicalPlan.scala:37)\r\n\t\tat org.apache.spark.sql.catalyst.plans.logical.LogicalPlan.transformDownWithPruning(LogicalPlan.scala:37)\r\n\t\tat org.apache.spark.sql.catalyst.trees.TreeNode.transformDown(TreeNode.scala:446)\r\n\t\tat org.apache.spark.sql.execution.QueryExecution.eagerlyExecuteCommands(QueryExecution.scala:164)\r\n\t\tat org.apache.spark.sql.execution.QueryExecution.$anonfun$lazyCommandExecuted$1(QueryExecution.scala:126)\r\n\t\tat scala.util.Try$.apply(Try.scala:217)\r\n\t\tat org.apache.spark.util.Utils$.doTryWithCallerStacktrace(Utils.scala:1378)\r\n\t\tat org.apache.spark.util.LazyTry.tryT$lzycompute(LazyTry.scala:46)\r\n\t\tat org.apache.spark.util.LazyTry.tryT(LazyTry.scala:46)\r\n\t\t... 20 more\r\n",
     "output_type": "error",
     "traceback": [
      "\u001b[1;31m---------------------------------------------------------------------------\u001b[0m",
      "\u001b[1;31mPy4JJavaError\u001b[0m                             Traceback (most recent call last)",
      "Cell \u001b[1;32mIn[110], line 11\u001b[0m\n\u001b[0;32m      4\u001b[0m url \u001b[38;5;241m=\u001b[39m \u001b[38;5;124mf\u001b[39m\u001b[38;5;124m\"\u001b[39m\u001b[38;5;124mjdbc:postgresql://movies_db:5439/moviedb\u001b[39m\u001b[38;5;124m\"\u001b[39m\n\u001b[0;32m      6\u001b[0m properties \u001b[38;5;241m=\u001b[39m {\n\u001b[0;32m      7\u001b[0m     \u001b[38;5;124m'\u001b[39m\u001b[38;5;124muser\u001b[39m\u001b[38;5;124m'\u001b[39m: DB_USER,\n\u001b[0;32m      8\u001b[0m     \u001b[38;5;124m'\u001b[39m\u001b[38;5;124mpassword\u001b[39m\u001b[38;5;124m'\u001b[39m: DB_PASS\n\u001b[0;32m      9\u001b[0m }\n\u001b[1;32m---> 11\u001b[0m \u001b[43mjoined_df\u001b[49m\u001b[38;5;241;43m.\u001b[39;49m\u001b[43mwrite\u001b[49m\u001b[38;5;241;43m.\u001b[39;49m\u001b[43mjdbc\u001b[49m\u001b[43m(\u001b[49m\u001b[43murl\u001b[49m\u001b[38;5;241;43m=\u001b[39;49m\u001b[43murl\u001b[49m\u001b[43m,\u001b[49m\u001b[43m \u001b[49m\u001b[43mtable\u001b[49m\u001b[38;5;241;43m=\u001b[39;49m\u001b[38;5;124;43m'\u001b[39;49m\u001b[38;5;124;43mrating_movies\u001b[39;49m\u001b[38;5;124;43m'\u001b[39;49m\u001b[43m,\u001b[49m\u001b[43m \u001b[49m\u001b[43mmode\u001b[49m\u001b[38;5;241;43m=\u001b[39;49m\u001b[38;5;124;43m'\u001b[39;49m\u001b[38;5;124;43moverwrite\u001b[39;49m\u001b[38;5;124;43m'\u001b[39;49m\u001b[43m,\u001b[49m\u001b[43m \u001b[49m\u001b[43mproperties\u001b[49m\u001b[38;5;241;43m=\u001b[39;49m\u001b[43mproperties\u001b[49m\u001b[43m)\u001b[49m\n",
      "File \u001b[1;32mc:\\Users\\Naufalqii\\Downloads\\Data Mastering\\Data engineering\\pyspark-projects\\pipeline-movie-data\\pyspark-movie-data-etl\\lib\\site-packages\\pyspark\\sql\\readwriter.py:2347\u001b[0m, in \u001b[0;36mDataFrameWriter.jdbc\u001b[1;34m(self, url, table, mode, properties)\u001b[0m\n\u001b[0;32m   2345\u001b[0m \u001b[38;5;28;01mfor\u001b[39;00m k \u001b[38;5;129;01min\u001b[39;00m properties:\n\u001b[0;32m   2346\u001b[0m     jprop\u001b[38;5;241m.\u001b[39msetProperty(k, properties[k])\n\u001b[1;32m-> 2347\u001b[0m \u001b[38;5;28;43mself\u001b[39;49m\u001b[38;5;241;43m.\u001b[39;49m\u001b[43mmode\u001b[49m\u001b[43m(\u001b[49m\u001b[43mmode\u001b[49m\u001b[43m)\u001b[49m\u001b[38;5;241;43m.\u001b[39;49m\u001b[43m_jwrite\u001b[49m\u001b[38;5;241;43m.\u001b[39;49m\u001b[43mjdbc\u001b[49m\u001b[43m(\u001b[49m\u001b[43murl\u001b[49m\u001b[43m,\u001b[49m\u001b[43m \u001b[49m\u001b[43mtable\u001b[49m\u001b[43m,\u001b[49m\u001b[43m \u001b[49m\u001b[43mjprop\u001b[49m\u001b[43m)\u001b[49m\n",
      "File \u001b[1;32mc:\\Users\\Naufalqii\\Downloads\\Data Mastering\\Data engineering\\pyspark-projects\\pipeline-movie-data\\pyspark-movie-data-etl\\lib\\site-packages\\py4j\\java_gateway.py:1362\u001b[0m, in \u001b[0;36mJavaMember.__call__\u001b[1;34m(self, *args)\u001b[0m\n\u001b[0;32m   1356\u001b[0m command \u001b[38;5;241m=\u001b[39m proto\u001b[38;5;241m.\u001b[39mCALL_COMMAND_NAME \u001b[38;5;241m+\u001b[39m\\\n\u001b[0;32m   1357\u001b[0m     \u001b[38;5;28mself\u001b[39m\u001b[38;5;241m.\u001b[39mcommand_header \u001b[38;5;241m+\u001b[39m\\\n\u001b[0;32m   1358\u001b[0m     args_command \u001b[38;5;241m+\u001b[39m\\\n\u001b[0;32m   1359\u001b[0m     proto\u001b[38;5;241m.\u001b[39mEND_COMMAND_PART\n\u001b[0;32m   1361\u001b[0m answer \u001b[38;5;241m=\u001b[39m \u001b[38;5;28mself\u001b[39m\u001b[38;5;241m.\u001b[39mgateway_client\u001b[38;5;241m.\u001b[39msend_command(command)\n\u001b[1;32m-> 1362\u001b[0m return_value \u001b[38;5;241m=\u001b[39m \u001b[43mget_return_value\u001b[49m\u001b[43m(\u001b[49m\n\u001b[0;32m   1363\u001b[0m \u001b[43m    \u001b[49m\u001b[43manswer\u001b[49m\u001b[43m,\u001b[49m\u001b[43m \u001b[49m\u001b[38;5;28;43mself\u001b[39;49m\u001b[38;5;241;43m.\u001b[39;49m\u001b[43mgateway_client\u001b[49m\u001b[43m,\u001b[49m\u001b[43m \u001b[49m\u001b[38;5;28;43mself\u001b[39;49m\u001b[38;5;241;43m.\u001b[39;49m\u001b[43mtarget_id\u001b[49m\u001b[43m,\u001b[49m\u001b[43m \u001b[49m\u001b[38;5;28;43mself\u001b[39;49m\u001b[38;5;241;43m.\u001b[39;49m\u001b[43mname\u001b[49m\u001b[43m)\u001b[49m\n\u001b[0;32m   1365\u001b[0m \u001b[38;5;28;01mfor\u001b[39;00m temp_arg \u001b[38;5;129;01min\u001b[39;00m temp_args:\n\u001b[0;32m   1366\u001b[0m     \u001b[38;5;28;01mif\u001b[39;00m \u001b[38;5;28mhasattr\u001b[39m(temp_arg, \u001b[38;5;124m\"\u001b[39m\u001b[38;5;124m_detach\u001b[39m\u001b[38;5;124m\"\u001b[39m):\n",
      "File \u001b[1;32mc:\\Users\\Naufalqii\\Downloads\\Data Mastering\\Data engineering\\pyspark-projects\\pipeline-movie-data\\pyspark-movie-data-etl\\lib\\site-packages\\pyspark\\errors\\exceptions\\captured.py:282\u001b[0m, in \u001b[0;36mcapture_sql_exception.<locals>.deco\u001b[1;34m(*a, **kw)\u001b[0m\n\u001b[0;32m    279\u001b[0m \u001b[38;5;28;01mfrom\u001b[39;00m\u001b[38;5;250m \u001b[39m\u001b[38;5;21;01mpy4j\u001b[39;00m\u001b[38;5;21;01m.\u001b[39;00m\u001b[38;5;21;01mprotocol\u001b[39;00m\u001b[38;5;250m \u001b[39m\u001b[38;5;28;01mimport\u001b[39;00m Py4JJavaError\n\u001b[0;32m    281\u001b[0m \u001b[38;5;28;01mtry\u001b[39;00m:\n\u001b[1;32m--> 282\u001b[0m     \u001b[38;5;28;01mreturn\u001b[39;00m f(\u001b[38;5;241m*\u001b[39ma, \u001b[38;5;241m*\u001b[39m\u001b[38;5;241m*\u001b[39mkw)\n\u001b[0;32m    283\u001b[0m \u001b[38;5;28;01mexcept\u001b[39;00m Py4JJavaError \u001b[38;5;28;01mas\u001b[39;00m e:\n\u001b[0;32m    284\u001b[0m     converted \u001b[38;5;241m=\u001b[39m convert_exception(e\u001b[38;5;241m.\u001b[39mjava_exception)\n",
      "File \u001b[1;32mc:\\Users\\Naufalqii\\Downloads\\Data Mastering\\Data engineering\\pyspark-projects\\pipeline-movie-data\\pyspark-movie-data-etl\\lib\\site-packages\\py4j\\protocol.py:327\u001b[0m, in \u001b[0;36mget_return_value\u001b[1;34m(answer, gateway_client, target_id, name)\u001b[0m\n\u001b[0;32m    325\u001b[0m value \u001b[38;5;241m=\u001b[39m OUTPUT_CONVERTER[\u001b[38;5;28mtype\u001b[39m](answer[\u001b[38;5;241m2\u001b[39m:], gateway_client)\n\u001b[0;32m    326\u001b[0m \u001b[38;5;28;01mif\u001b[39;00m answer[\u001b[38;5;241m1\u001b[39m] \u001b[38;5;241m==\u001b[39m REFERENCE_TYPE:\n\u001b[1;32m--> 327\u001b[0m     \u001b[38;5;28;01mraise\u001b[39;00m Py4JJavaError(\n\u001b[0;32m    328\u001b[0m         \u001b[38;5;124m\"\u001b[39m\u001b[38;5;124mAn error occurred while calling \u001b[39m\u001b[38;5;132;01m{0}\u001b[39;00m\u001b[38;5;132;01m{1}\u001b[39;00m\u001b[38;5;132;01m{2}\u001b[39;00m\u001b[38;5;124m.\u001b[39m\u001b[38;5;130;01m\\n\u001b[39;00m\u001b[38;5;124m\"\u001b[39m\u001b[38;5;241m.\u001b[39m\n\u001b[0;32m    329\u001b[0m         \u001b[38;5;28mformat\u001b[39m(target_id, \u001b[38;5;124m\"\u001b[39m\u001b[38;5;124m.\u001b[39m\u001b[38;5;124m\"\u001b[39m, name), value)\n\u001b[0;32m    330\u001b[0m \u001b[38;5;28;01melse\u001b[39;00m:\n\u001b[0;32m    331\u001b[0m     \u001b[38;5;28;01mraise\u001b[39;00m Py4JError(\n\u001b[0;32m    332\u001b[0m         \u001b[38;5;124m\"\u001b[39m\u001b[38;5;124mAn error occurred while calling \u001b[39m\u001b[38;5;132;01m{0}\u001b[39;00m\u001b[38;5;132;01m{1}\u001b[39;00m\u001b[38;5;132;01m{2}\u001b[39;00m\u001b[38;5;124m. Trace:\u001b[39m\u001b[38;5;130;01m\\n\u001b[39;00m\u001b[38;5;132;01m{3}\u001b[39;00m\u001b[38;5;130;01m\\n\u001b[39;00m\u001b[38;5;124m\"\u001b[39m\u001b[38;5;241m.\u001b[39m\n\u001b[0;32m    333\u001b[0m         \u001b[38;5;28mformat\u001b[39m(target_id, \u001b[38;5;124m\"\u001b[39m\u001b[38;5;124m.\u001b[39m\u001b[38;5;124m\"\u001b[39m, name, value))\n",
      "\u001b[1;31mPy4JJavaError\u001b[0m: An error occurred while calling o708.jdbc.\n: java.sql.SQLException: No suitable driver\r\n\tat java.sql/java.sql.DriverManager.getDriver(DriverManager.java:300)\r\n\tat org.apache.spark.sql.execution.datasources.jdbc.JDBCOptions.$anonfun$driverClass$2(JDBCOptions.scala:118)\r\n\tat scala.Option.getOrElse(Option.scala:201)\r\n\tat org.apache.spark.sql.execution.datasources.jdbc.JDBCOptions.<init>(JDBCOptions.scala:118)\r\n\tat org.apache.spark.sql.execution.datasources.jdbc.JdbcOptionsInWrite.<init>(JDBCOptions.scala:272)\r\n\tat org.apache.spark.sql.execution.datasources.jdbc.JdbcOptionsInWrite.<init>(JDBCOptions.scala:276)\r\n\tat org.apache.spark.sql.execution.datasources.jdbc.JdbcRelationProvider.createRelation(JdbcRelationProvider.scala:48)\r\n\tat org.apache.spark.sql.execution.datasources.SaveIntoDataSourceCommand.run(SaveIntoDataSourceCommand.scala:55)\r\n\tat org.apache.spark.sql.execution.command.ExecutedCommandExec.sideEffectResult$lzycompute(commands.scala:79)\r\n\tat org.apache.spark.sql.execution.command.ExecutedCommandExec.sideEffectResult(commands.scala:77)\r\n\tat org.apache.spark.sql.execution.command.ExecutedCommandExec.executeCollect(commands.scala:88)\r\n\tat org.apache.spark.sql.execution.QueryExecution.$anonfun$eagerlyExecuteCommands$2(QueryExecution.scala:155)\r\n\tat org.apache.spark.sql.execution.SQLExecution$.$anonfun$withNewExecutionId0$8(SQLExecution.scala:162)\r\n\tat org.apache.spark.sql.execution.SQLExecution$.withSessionTagsApplied(SQLExecution.scala:268)\r\n\tat org.apache.spark.sql.execution.SQLExecution$.$anonfun$withNewExecutionId0$7(SQLExecution.scala:124)\r\n\tat org.apache.spark.JobArtifactSet$.withActiveJobArtifactState(JobArtifactSet.scala:94)\r\n\tat org.apache.spark.sql.artifact.ArtifactManager.$anonfun$withResources$1(ArtifactManager.scala:112)\r\n\tat org.apache.spark.sql.artifact.ArtifactManager.withClassLoaderIfNeeded(ArtifactManager.scala:106)\r\n\tat org.apache.spark.sql.artifact.ArtifactManager.withResources(ArtifactManager.scala:111)\r\n\tat org.apache.spark.sql.execution.SQLExecution$.$anonfun$withNewExecutionId0$6(SQLExecution.scala:124)\r\n\tat org.apache.spark.sql.execution.SQLExecution$.withSQLConfPropagated(SQLExecution.scala:291)\r\n\tat org.apache.spark.sql.execution.SQLExecution$.$anonfun$withNewExecutionId0$1(SQLExecution.scala:123)\r\n\tat org.apache.spark.sql.SparkSession.withActive(SparkSession.scala:804)\r\n\tat org.apache.spark.sql.execution.SQLExecution$.withNewExecutionId0(SQLExecution.scala:77)\r\n\tat org.apache.spark.sql.execution.SQLExecution$.withNewExecutionId(SQLExecution.scala:233)\r\n\tat org.apache.spark.sql.execution.QueryExecution.$anonfun$eagerlyExecuteCommands$1(QueryExecution.scala:155)\r\n\tat org.apache.spark.sql.execution.QueryExecution$.withInternalError(QueryExecution.scala:654)\r\n\tat org.apache.spark.sql.execution.QueryExecution.org$apache$spark$sql$execution$QueryExecution$$eagerlyExecute$1(QueryExecution.scala:154)\r\n\tat org.apache.spark.sql.execution.QueryExecution$$anonfun$eagerlyExecuteCommands$3.applyOrElse(QueryExecution.scala:169)\r\n\tat org.apache.spark.sql.execution.QueryExecution$$anonfun$eagerlyExecuteCommands$3.applyOrElse(QueryExecution.scala:164)\r\n\tat org.apache.spark.sql.catalyst.trees.TreeNode.$anonfun$transformDownWithPruning$1(TreeNode.scala:470)\r\n\tat org.apache.spark.sql.catalyst.trees.CurrentOrigin$.withOrigin(origin.scala:86)\r\n\tat org.apache.spark.sql.catalyst.trees.TreeNode.transformDownWithPruning(TreeNode.scala:470)\r\n\tat org.apache.spark.sql.catalyst.plans.logical.LogicalPlan.org$apache$spark$sql$catalyst$plans$logical$AnalysisHelper$$super$transformDownWithPruning(LogicalPlan.scala:37)\r\n\tat org.apache.spark.sql.catalyst.plans.logical.AnalysisHelper.transformDownWithPruning(AnalysisHelper.scala:360)\r\n\tat org.apache.spark.sql.catalyst.plans.logical.AnalysisHelper.transformDownWithPruning$(AnalysisHelper.scala:356)\r\n\tat org.apache.spark.sql.catalyst.plans.logical.LogicalPlan.transformDownWithPruning(LogicalPlan.scala:37)\r\n\tat org.apache.spark.sql.catalyst.plans.logical.LogicalPlan.transformDownWithPruning(LogicalPlan.scala:37)\r\n\tat org.apache.spark.sql.catalyst.trees.TreeNode.transformDown(TreeNode.scala:446)\r\n\tat org.apache.spark.sql.execution.QueryExecution.eagerlyExecuteCommands(QueryExecution.scala:164)\r\n\tat org.apache.spark.sql.execution.QueryExecution.$anonfun$lazyCommandExecuted$1(QueryExecution.scala:126)\r\n\tat scala.util.Try$.apply(Try.scala:217)\r\n\tat org.apache.spark.util.Utils$.doTryWithCallerStacktrace(Utils.scala:1378)\r\n\tat org.apache.spark.util.Utils$.getTryWithCallerStacktrace(Utils.scala:1439)\r\n\tat org.apache.spark.util.LazyTry.get(LazyTry.scala:58)\r\n\tat org.apache.spark.sql.execution.QueryExecution.commandExecuted(QueryExecution.scala:131)\r\n\tat org.apache.spark.sql.execution.QueryExecution.assertCommandExecuted(QueryExecution.scala:192)\r\n\tat org.apache.spark.sql.classic.DataFrameWriter.runCommand(DataFrameWriter.scala:622)\r\n\tat org.apache.spark.sql.classic.DataFrameWriter.saveToV1Source(DataFrameWriter.scala:273)\r\n\tat org.apache.spark.sql.classic.DataFrameWriter.saveInternal(DataFrameWriter.scala:241)\r\n\tat org.apache.spark.sql.classic.DataFrameWriter.save(DataFrameWriter.scala:126)\r\n\tat org.apache.spark.sql.DataFrameWriter.jdbc(DataFrameWriter.scala:334)\r\n\tat java.base/jdk.internal.reflect.NativeMethodAccessorImpl.invoke0(Native Method)\r\n\tat java.base/jdk.internal.reflect.NativeMethodAccessorImpl.invoke(NativeMethodAccessorImpl.java:75)\r\n\tat java.base/jdk.internal.reflect.DelegatingMethodAccessorImpl.invoke(DelegatingMethodAccessorImpl.java:52)\r\n\tat java.base/java.lang.reflect.Method.invoke(Method.java:580)\r\n\tat py4j.reflection.MethodInvoker.invoke(MethodInvoker.java:244)\r\n\tat py4j.reflection.ReflectionEngine.invoke(ReflectionEngine.java:374)\r\n\tat py4j.Gateway.invoke(Gateway.java:282)\r\n\tat py4j.commands.AbstractCommand.invokeMethod(AbstractCommand.java:132)\r\n\tat py4j.commands.CallCommand.execute(CallCommand.java:79)\r\n\tat py4j.ClientServerConnection.waitForCommands(ClientServerConnection.java:184)\r\n\tat py4j.ClientServerConnection.run(ClientServerConnection.java:108)\r\n\tat java.base/java.lang.Thread.run(Thread.java:1583)\r\n\tSuppressed: org.apache.spark.util.Utils$OriginalTryStackTraceException: Full stacktrace of original doTryWithCallerStacktrace caller\r\n\t\tat java.sql/java.sql.DriverManager.getDriver(DriverManager.java:300)\r\n\t\tat org.apache.spark.sql.execution.datasources.jdbc.JDBCOptions.$anonfun$driverClass$2(JDBCOptions.scala:118)\r\n\t\tat scala.Option.getOrElse(Option.scala:201)\r\n\t\tat org.apache.spark.sql.execution.datasources.jdbc.JDBCOptions.<init>(JDBCOptions.scala:118)\r\n\t\tat org.apache.spark.sql.execution.datasources.jdbc.JdbcOptionsInWrite.<init>(JDBCOptions.scala:272)\r\n\t\tat org.apache.spark.sql.execution.datasources.jdbc.JdbcOptionsInWrite.<init>(JDBCOptions.scala:276)\r\n\t\tat org.apache.spark.sql.execution.datasources.jdbc.JdbcRelationProvider.createRelation(JdbcRelationProvider.scala:48)\r\n\t\tat org.apache.spark.sql.execution.datasources.SaveIntoDataSourceCommand.run(SaveIntoDataSourceCommand.scala:55)\r\n\t\tat org.apache.spark.sql.execution.command.ExecutedCommandExec.sideEffectResult$lzycompute(commands.scala:79)\r\n\t\tat org.apache.spark.sql.execution.command.ExecutedCommandExec.sideEffectResult(commands.scala:77)\r\n\t\tat org.apache.spark.sql.execution.command.ExecutedCommandExec.executeCollect(commands.scala:88)\r\n\t\tat org.apache.spark.sql.execution.QueryExecution.$anonfun$eagerlyExecuteCommands$2(QueryExecution.scala:155)\r\n\t\tat org.apache.spark.sql.execution.SQLExecution$.$anonfun$withNewExecutionId0$8(SQLExecution.scala:162)\r\n\t\tat org.apache.spark.sql.execution.SQLExecution$.withSessionTagsApplied(SQLExecution.scala:268)\r\n\t\tat org.apache.spark.sql.execution.SQLExecution$.$anonfun$withNewExecutionId0$7(SQLExecution.scala:124)\r\n\t\tat org.apache.spark.JobArtifactSet$.withActiveJobArtifactState(JobArtifactSet.scala:94)\r\n\t\tat org.apache.spark.sql.artifact.ArtifactManager.$anonfun$withResources$1(ArtifactManager.scala:112)\r\n\t\tat org.apache.spark.sql.artifact.ArtifactManager.withClassLoaderIfNeeded(ArtifactManager.scala:106)\r\n\t\tat org.apache.spark.sql.artifact.ArtifactManager.withResources(ArtifactManager.scala:111)\r\n\t\tat org.apache.spark.sql.execution.SQLExecution$.$anonfun$withNewExecutionId0$6(SQLExecution.scala:124)\r\n\t\tat org.apache.spark.sql.execution.SQLExecution$.withSQLConfPropagated(SQLExecution.scala:291)\r\n\t\tat org.apache.spark.sql.execution.SQLExecution$.$anonfun$withNewExecutionId0$1(SQLExecution.scala:123)\r\n\t\tat org.apache.spark.sql.SparkSession.withActive(SparkSession.scala:804)\r\n\t\tat org.apache.spark.sql.execution.SQLExecution$.withNewExecutionId0(SQLExecution.scala:77)\r\n\t\tat org.apache.spark.sql.execution.SQLExecution$.withNewExecutionId(SQLExecution.scala:233)\r\n\t\tat org.apache.spark.sql.execution.QueryExecution.$anonfun$eagerlyExecuteCommands$1(QueryExecution.scala:155)\r\n\t\tat org.apache.spark.sql.execution.QueryExecution$.withInternalError(QueryExecution.scala:654)\r\n\t\tat org.apache.spark.sql.execution.QueryExecution.org$apache$spark$sql$execution$QueryExecution$$eagerlyExecute$1(QueryExecution.scala:154)\r\n\t\tat org.apache.spark.sql.execution.QueryExecution$$anonfun$eagerlyExecuteCommands$3.applyOrElse(QueryExecution.scala:169)\r\n\t\tat org.apache.spark.sql.execution.QueryExecution$$anonfun$eagerlyExecuteCommands$3.applyOrElse(QueryExecution.scala:164)\r\n\t\tat org.apache.spark.sql.catalyst.trees.TreeNode.$anonfun$transformDownWithPruning$1(TreeNode.scala:470)\r\n\t\tat org.apache.spark.sql.catalyst.trees.CurrentOrigin$.withOrigin(origin.scala:86)\r\n\t\tat org.apache.spark.sql.catalyst.trees.TreeNode.transformDownWithPruning(TreeNode.scala:470)\r\n\t\tat org.apache.spark.sql.catalyst.plans.logical.LogicalPlan.org$apache$spark$sql$catalyst$plans$logical$AnalysisHelper$$super$transformDownWithPruning(LogicalPlan.scala:37)\r\n\t\tat org.apache.spark.sql.catalyst.plans.logical.AnalysisHelper.transformDownWithPruning(AnalysisHelper.scala:360)\r\n\t\tat org.apache.spark.sql.catalyst.plans.logical.AnalysisHelper.transformDownWithPruning$(AnalysisHelper.scala:356)\r\n\t\tat org.apache.spark.sql.catalyst.plans.logical.LogicalPlan.transformDownWithPruning(LogicalPlan.scala:37)\r\n\t\tat org.apache.spark.sql.catalyst.plans.logical.LogicalPlan.transformDownWithPruning(LogicalPlan.scala:37)\r\n\t\tat org.apache.spark.sql.catalyst.trees.TreeNode.transformDown(TreeNode.scala:446)\r\n\t\tat org.apache.spark.sql.execution.QueryExecution.eagerlyExecuteCommands(QueryExecution.scala:164)\r\n\t\tat org.apache.spark.sql.execution.QueryExecution.$anonfun$lazyCommandExecuted$1(QueryExecution.scala:126)\r\n\t\tat scala.util.Try$.apply(Try.scala:217)\r\n\t\tat org.apache.spark.util.Utils$.doTryWithCallerStacktrace(Utils.scala:1378)\r\n\t\tat org.apache.spark.util.LazyTry.tryT$lzycompute(LazyTry.scala:46)\r\n\t\tat org.apache.spark.util.LazyTry.tryT(LazyTry.scala:46)\r\n\t\t... 20 more\r\n"
     ]
    }
   ],
   "source": [
    "DB_USER = 'postgres'\n",
    "DB_PASS = 'postgres'\n",
    "\n",
    "url = f\"jdbc:postgresql://movies_db:5439/moviedb\"\n",
    "\n",
    "properties = {\n",
    "    'user': DB_USER,\n",
    "    'password': DB_PASS\n",
    "}\n",
    "\n",
    "joined_df.write.jdbc(url=url, table='rating_movies', mode='overwrite', properties=properties)"
   ]
  }
 ],
 "metadata": {
  "kernelspec": {
   "display_name": "pyspark-movie-data-etl (3.10.7)",
   "language": "python",
   "name": "python3"
  },
  "language_info": {
   "codemirror_mode": {
    "name": "ipython",
    "version": 3
   },
   "file_extension": ".py",
   "mimetype": "text/x-python",
   "name": "python",
   "nbconvert_exporter": "python",
   "pygments_lexer": "ipython3",
   "version": "3.10.7"
  }
 },
 "nbformat": 4,
 "nbformat_minor": 5
}
